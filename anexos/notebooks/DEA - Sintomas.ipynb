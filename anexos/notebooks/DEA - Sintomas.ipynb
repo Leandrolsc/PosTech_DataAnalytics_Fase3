{
  "nbformat": 4,
  "nbformat_minor": 0,
  "metadata": {
    "colab": {
      "cell_execution_strategy": "setup",
      "provenance": [],
      "name": "DEA - Sintomas"
    },
    "kernelspec": {
      "name": "python3",
      "display_name": "Python 3"
    },
    "language_info": {
      "name": "python"
    }
  },
  "cells": [
    {
      "cell_type": "code",
      "source": [
        "# @title Setup\n",
        "from google.cloud import bigquery\n",
        "from google.colab import data_table\n",
        "import bigframes.pandas as bpd\n",
        "\n",
        "project = 'postechanalyticsfase3' # Project ID inserted based on the query results selected to explore\n",
        "location = 'southamerica-east1' # Location inserted based on the query results selected to explore\n",
        "client = bigquery.Client(project=project, location=location)\n",
        "data_table.enable_dataframe_formatter()"
      ],
      "metadata": {
        "id": "w6MmeBUBJ-9E",
        "cellView": "form",
        "executionInfo": {
          "status": "ok",
          "timestamp": 1742432744938,
          "user_tz": 240,
          "elapsed": 6,
          "user": {
            "displayName": "",
            "userId": ""
          }
        }
      },
      "execution_count": 15,
      "outputs": []
    },
    {
      "metadata": {
        "id": "pj42soltXW_H"
      },
      "cell_type": "markdown",
      "source": [
        "## Reference SQL syntax from the original job\n",
        "Use the ```jobs.query```\n",
        "[method](https://cloud.google.com/bigquery/docs/reference/rest/v2/jobs/query) to\n",
        "return the SQL syntax from the job. This can be copied from the output cell\n",
        "below to edit the query now or in the future. Alternatively, you can use\n",
        "[this link](https://console.cloud.google.com/bigquery?j=postechanalyticsfase3:southamerica-east1:bquxjob_7dd1d0cc_195ac1cb4a1)\n",
        "back to BigQuery to edit the query within the BigQuery user interface."
      ]
    },
    {
      "metadata": {
        "id": "KxSqPfAeXW_K",
        "colab": {
          "base_uri": "https://localhost:8080/"
        },
        "executionInfo": {
          "status": "ok",
          "timestamp": 1742432745435,
          "user_tz": 240,
          "elapsed": 502,
          "user": {
            "displayName": "",
            "userId": ""
          }
        },
        "outputId": "1efd8f7c-80a9-40df-d0a4-3654f134ffb3"
      },
      "cell_type": "code",
      "source": [
        "# Running this code will display the query used to generate your previous job\n",
        "\n",
        "job = client.get_job('bquxjob_7dd1d0cc_195ac1cb4a1') # Job ID inserted based on the query results selected to explore\n",
        "print(job.query)"
      ],
      "outputs": [
        {
          "output_type": "stream",
          "name": "stdout",
          "text": [
            "SELECT '112020' as MesAno\r\n",
            "      ,COUNT(CASE B00113 WHEN 1 THEN 1 ELSE NULL  END)  as Diarreia\r\n",
            "      ,COUNT(CASE B0014  WHEN 1 THEN 1 ELSE NULL  END)  as DificuldadeRespirar\r\n",
            "      ,COUNT(CASE B0015  WHEN 1 THEN 1 ELSE NULL  END)  as DorCabeca\r\n",
            "      ,COUNT(CASE B0013  WHEN 1 THEN 1 ELSE NULL  END)  as DorGarganta\r\n",
            "      ,COUNT(CASE B00112 WHEN 1 THEN 1 ELSE NULL  END)  as DorMuscular\r\n",
            "      ,COUNT(CASE B0016  WHEN 1 THEN 1 ELSE NULL  END)  as DorPeito\r\n",
            "      ,COUNT(CASE B00110 WHEN 1 THEN 1 ELSE NULL  END)  as DorOlhos\r\n",
            "      ,COUNT(CASE B0019  WHEN 1 THEN 1 ELSE NULL  END)  as Fadiga\r\n",
            "      ,COUNT(CASE B0011  WHEN 1 THEN 1 ELSE NULL  END)  as Febre\r\n",
            "      ,COUNT(CASE B0018  WHEN 1 THEN 1 ELSE NULL  END)  as NarizEntupidoEscorrendo\r\n",
            "      ,COUNT(CASE B0017  WHEN 1 THEN 1 ELSE NULL  END)  as Nausea    \r\n",
            "      ,COUNT(CASE B00111 WHEN 1 THEN 1 ELSE NULL  END)  as PerdaCheiroSabor\r\n",
            "      ,COUNT(CASE B0012  WHEN 1 THEN 1 ELSE NULL  END)  as Tosse\r\n",
            "      ,COUNT(*) TotalLinhas\r\n",
            "FROM `PNAD_COVID.PNAD_COVID_112020` \r\n",
            "UNION ALL\r\n",
            "SELECT '102020' as MesAno\r\n",
            "      ,COUNT(CASE B00113 WHEN 1 THEN 1 ELSE NULL  END)  as Diarreia\r\n",
            "      ,COUNT(CASE B0014  WHEN 1 THEN 1 ELSE NULL  END)  as DificuldadeRespirar\r\n",
            "      ,COUNT(CASE B0015  WHEN 1 THEN 1 ELSE NULL  END)  as DorCabeca\r\n",
            "      ,COUNT(CASE B0013  WHEN 1 THEN 1 ELSE NULL  END)  as DorGarganta\r\n",
            "      ,COUNT(CASE B00112 WHEN 1 THEN 1 ELSE NULL  END)  as DorMuscular\r\n",
            "      ,COUNT(CASE B0016  WHEN 1 THEN 1 ELSE NULL  END)  as DorPeito\r\n",
            "      ,COUNT(CASE B00110 WHEN 1 THEN 1 ELSE NULL  END)  as DorOlhos\r\n",
            "      ,COUNT(CASE B0019  WHEN 1 THEN 1 ELSE NULL  END)  as Fadiga\r\n",
            "      ,COUNT(CASE B0011  WHEN 1 THEN 1 ELSE NULL  END)  as Febre\r\n",
            "      ,COUNT(CASE B0018  WHEN 1 THEN 1 ELSE NULL  END)  as NarizEntupidoEscorrendo\r\n",
            "      ,COUNT(CASE B0017  WHEN 1 THEN 1 ELSE NULL  END)  as Nausea    \r\n",
            "      ,COUNT(CASE B00111 WHEN 1 THEN 1 ELSE NULL  END)  as PerdaCheiroSabor\r\n",
            "      ,COUNT(CASE B0012  WHEN 1 THEN 1 ELSE NULL  END)  as Tosse\r\n",
            "      ,COUNT(*) TotalLinhas\r\n",
            "FROM `PNAD_COVID.PNAD_COVID_102020` \r\n",
            "UNION ALL\r\n",
            "SELECT '092020' as MesAno\r\n",
            "      ,COUNT(CASE B00113 WHEN 1 THEN 1 ELSE NULL  END)  as Diarreia\r\n",
            "      ,COUNT(CASE B0014  WHEN 1 THEN 1 ELSE NULL  END)  as DificuldadeRespirar\r\n",
            "      ,COUNT(CASE B0015  WHEN 1 THEN 1 ELSE NULL  END)  as DorCabeca\r\n",
            "      ,COUNT(CASE B0013  WHEN 1 THEN 1 ELSE NULL  END)  as DorGarganta\r\n",
            "      ,COUNT(CASE B00112 WHEN 1 THEN 1 ELSE NULL  END)  as DorMuscular\r\n",
            "      ,COUNT(CASE B0016  WHEN 1 THEN 1 ELSE NULL  END)  as DorPeito\r\n",
            "      ,COUNT(CASE B00110 WHEN 1 THEN 1 ELSE NULL  END)  as DorOlhos\r\n",
            "      ,COUNT(CASE B0019  WHEN 1 THEN 1 ELSE NULL  END)  as Fadiga\r\n",
            "      ,COUNT(CASE B0011  WHEN 1 THEN 1 ELSE NULL  END)  as Febre\r\n",
            "      ,COUNT(CASE B0018  WHEN 1 THEN 1 ELSE NULL  END)  as NarizEntupidoEscorrendo\r\n",
            "      ,COUNT(CASE B0017  WHEN 1 THEN 1 ELSE NULL  END)  as Nausea    \r\n",
            "      ,COUNT(CASE B00111 WHEN 1 THEN 1 ELSE NULL  END)  as PerdaCheiroSabor\r\n",
            "      ,COUNT(CASE B0012  WHEN 1 THEN 1 ELSE NULL  END)  as Tosse\r\n",
            "      ,COUNT(*) TotalLinhas\r\n",
            "FROM `PNAD_COVID.PNAD_COVID_092020` \r\n",
            "UNION ALL\r\n",
            "SELECT '082020' as MesAno\r\n",
            "      ,COUNT(CASE B00113 WHEN 1 THEN 1 ELSE NULL  END)  as Diarreia\r\n",
            "      ,COUNT(CASE B0014  WHEN 1 THEN 1 ELSE NULL  END)  as DificuldadeRespirar\r\n",
            "      ,COUNT(CASE B0015  WHEN 1 THEN 1 ELSE NULL  END)  as DorCabeca\r\n",
            "      ,COUNT(CASE B0013  WHEN 1 THEN 1 ELSE NULL  END)  as DorGarganta\r\n",
            "      ,COUNT(CASE B00112 WHEN 1 THEN 1 ELSE NULL  END)  as DorMuscular\r\n",
            "      ,COUNT(CASE B0016  WHEN 1 THEN 1 ELSE NULL  END)  as DorPeito\r\n",
            "      ,COUNT(CASE B00110 WHEN 1 THEN 1 ELSE NULL  END)  as DorOlhos\r\n",
            "      ,COUNT(CASE B0019  WHEN 1 THEN 1 ELSE NULL  END)  as Fadiga\r\n",
            "      ,COUNT(CASE B0011  WHEN 1 THEN 1 ELSE NULL  END)  as Febre\r\n",
            "      ,COUNT(CASE B0018  WHEN 1 THEN 1 ELSE NULL  END)  as NarizEntupidoEscorrendo\r\n",
            "      ,COUNT(CASE B0017  WHEN 1 THEN 1 ELSE NULL  END)  as Nausea    \r\n",
            "      ,COUNT(CASE B00111 WHEN 1 THEN 1 ELSE NULL  END)  as PerdaCheiroSabor\r\n",
            "      ,COUNT(CASE B0012  WHEN 1 THEN 1 ELSE NULL  END)  as Tosse\r\n",
            "      ,COUNT(*) TotalLinhas\r\n",
            "FROM `PNAD_COVID.PNAD_COVID_082020` \r\n",
            "UNION ALL\r\n",
            "SELECT '072020' as MesAno\r\n",
            "      ,COUNT(CASE B00113 WHEN 1 THEN 1 ELSE NULL  END)  as Diarreia\r\n",
            "      ,COUNT(CASE B0014  WHEN 1 THEN 1 ELSE NULL  END)  as DificuldadeRespirar\r\n",
            "      ,COUNT(CASE B0015  WHEN 1 THEN 1 ELSE NULL  END)  as DorCabeca\r\n",
            "      ,COUNT(CASE B0013  WHEN 1 THEN 1 ELSE NULL  END)  as DorGarganta\r\n",
            "      ,COUNT(CASE B00112 WHEN 1 THEN 1 ELSE NULL  END)  as DorMuscular\r\n",
            "      ,COUNT(CASE B0016  WHEN 1 THEN 1 ELSE NULL  END)  as DorPeito\r\n",
            "      ,COUNT(CASE B00110 WHEN 1 THEN 1 ELSE NULL  END)  as DorOlhos\r\n",
            "      ,COUNT(CASE B0019  WHEN 1 THEN 1 ELSE NULL  END)  as Fadiga\r\n",
            "      ,COUNT(CASE B0011  WHEN 1 THEN 1 ELSE NULL  END)  as Febre\r\n",
            "      ,COUNT(CASE B0018  WHEN 1 THEN 1 ELSE NULL  END)  as NarizEntupidoEscorrendo\r\n",
            "      ,COUNT(CASE B0017  WHEN 1 THEN 1 ELSE NULL  END)  as Nausea    \r\n",
            "      ,COUNT(CASE B00111 WHEN 1 THEN 1 ELSE NULL  END)  as PerdaCheiroSabor\r\n",
            "      ,COUNT(CASE B0012  WHEN 1 THEN 1 ELSE NULL  END)  as Tosse\r\n",
            "      ,COUNT(*) TotalLinhas\r\n",
            "FROM `PNAD_COVID.PNAD_COVID_072020` \r\n",
            "UNION ALL\r\n",
            "SELECT '062020' as MesAno\r\n",
            "      ,0  as Diarreia\r\n",
            "      ,COUNT(CASE B0014  WHEN 1 THEN 1 ELSE NULL  END)  as DificuldadeRespirar\r\n",
            "      ,COUNT(CASE B0015  WHEN 1 THEN 1 ELSE NULL  END)  as DorCabeca\r\n",
            "      ,COUNT(CASE B0013  WHEN 1 THEN 1 ELSE NULL  END)  as DorGarganta\r\n",
            "      ,COUNT(CASE B00112 WHEN 1 THEN 1 ELSE NULL  END)  as DorMuscular\r\n",
            "      ,COUNT(CASE B0016  WHEN 1 THEN 1 ELSE NULL  END)  as DorPeito\r\n",
            "      ,COUNT(CASE B00110 WHEN 1 THEN 1 ELSE NULL  END)  as DorOlhos\r\n",
            "      ,COUNT(CASE B0019  WHEN 1 THEN 1 ELSE NULL  END)  as Fadiga\r\n",
            "      ,COUNT(CASE B0011  WHEN 1 THEN 1 ELSE NULL  END)  as Febre\r\n",
            "      ,COUNT(CASE B0018  WHEN 1 THEN 1 ELSE NULL  END)  as NarizEntupidoEscorrendo\r\n",
            "      ,COUNT(CASE B0017  WHEN 1 THEN 1 ELSE NULL  END)  as Nausea    \r\n",
            "      ,COUNT(CASE B00111 WHEN 1 THEN 1 ELSE NULL  END)  as PerdaCheiroSabor\r\n",
            "      ,COUNT(CASE B0012  WHEN 1 THEN 1 ELSE NULL  END)  as Tosse\r\n",
            "      ,COUNT(*) TotalLinhas\r\n",
            "FROM `PNAD_COVID.PNAD_COVID_062020` \r\n",
            "UNION ALL\r\n",
            "SELECT '052020' as MesAno\r\n",
            "      ,0  as Diarreia\r\n",
            "      ,COUNT(CASE B0014  WHEN 1 THEN 1 ELSE NULL  END)  as DificuldadeRespirar\r\n",
            "      ,COUNT(CASE B0015  WHEN 1 THEN 1 ELSE NULL  END)  as DorCabeca\r\n",
            "      ,COUNT(CASE B0013  WHEN 1 THEN 1 ELSE NULL  END)  as DorGarganta\r\n",
            "      ,COUNT(CASE B00112 WHEN 1 THEN 1 ELSE NULL  END)  as DorMuscular\r\n",
            "      ,COUNT(CASE B0016  WHEN 1 THEN 1 ELSE NULL  END)  as DorPeito\r\n",
            "      ,COUNT(CASE B00110 WHEN 1 THEN 1 ELSE NULL  END)  as DorOlhos\r\n",
            "      ,COUNT(CASE B0019  WHEN 1 THEN 1 ELSE NULL  END)  as Fadiga\r\n",
            "      ,COUNT(CASE B0011  WHEN 1 THEN 1 ELSE NULL  END)  as Febre\r\n",
            "      ,COUNT(CASE B0018  WHEN 1 THEN 1 ELSE NULL  END)  as NarizEntupidoEscorrendo\r\n",
            "      ,COUNT(CASE B0017  WHEN 1 THEN 1 ELSE NULL  END)  as Nausea    \r\n",
            "      ,COUNT(CASE B00111 WHEN 1 THEN 1 ELSE NULL  END)  as PerdaCheiroSabor\r\n",
            "      ,COUNT(CASE B0012  WHEN 1 THEN 1 ELSE NULL  END)  as Tosse\r\n",
            "      ,COUNT(*) TotalLinhas\r\n",
            "FROM `PNAD_COVID.PNAD_COVID_052020` \r\n",
            "ORDER BY 1\n"
          ]
        }
      ],
      "execution_count": 16
    },
    {
      "cell_type": "markdown",
      "metadata": {
        "id": "eY-wNOGO11ON"
      },
      "source": [
        "# Result set loaded from BigQuery job as a DataFrame\n",
        "Query results are referenced from the Job ID ran from BigQuery and the query\n",
        "does not need to be re-run to explore results. The ```to_dataframe```\n",
        "[method](https://googleapis.dev/python/bigquery/latest/generated/google.cloud.bigquery.job.QueryJob.html#google.cloud.bigquery.job.QueryJob.to_dataframe)\n",
        "downloads the results to a Pandas DataFrame by using the BigQuery Storage API. The read_gbq_table [method](https://cloud.google.com/python/docs/reference/bigframes/latest/bigframes.pandas#bigframes_pandas_read_gbq_function) turns a BigQuery table into the BigFrames DataFrame.\n",
        "\n",
        "To edit query syntax, you can do so from the BigQuery SQL editor or in the\n",
        "```Optional:``` sections below."
      ]
    },
    {
      "cell_type": "code",
      "execution_count": 17,
      "metadata": {
        "id": "bIw82qhuHWy0",
        "colab": {
          "base_uri": "https://localhost:8080/",
          "height": 389
        },
        "executionInfo": {
          "status": "ok",
          "timestamp": 1742432749099,
          "user_tz": 240,
          "elapsed": 3666,
          "user": {
            "displayName": "",
            "userId": ""
          }
        },
        "outputId": "26005c57-81e9-4224-a7d0-67842fe4225d"
      },
      "outputs": [
        {
          "output_type": "stream",
          "name": "stderr",
          "text": [
            "/usr/local/lib/python3.10/dist-packages/IPython/core/interactiveshell.py:3553: UserWarning: Reading cached table from 2025-03-20 00:40:21.268270+00:00 to avoid incompatibilies with previous reads of this table. To read the latest version, set `use_cache=False` or close the current session with Session.close() or bigframes.pandas.close_session().\n",
            "  exec(code_obj, self.user_global_ns, self.user_ns)\n"
          ]
        },
        {
          "output_type": "display_data",
          "data": {
            "text/plain": [
              "<IPython.core.display.HTML object>"
            ],
            "text/html": [
              "Query job e42cd7ad-c2e4-4e73-817c-82c37327b4c7 is DONE. 0 Bytes processed. <a target=\"_blank\" href=\"https://console.cloud.google.com/bigquery?project=postechanalyticsfase3&j=bq:southamerica-east1:e42cd7ad-c2e4-4e73-817c-82c37327b4c7&page=queryresults\">Open Job</a>"
            ]
          },
          "metadata": {}
        },
        {
          "output_type": "execute_result",
          "data": {
            "text/plain": [
              "   MesAno  Diarreia  DificuldadeRespirar  DorCabeca  DorGarganta  DorMuscular  \\\n",
              "0  092020      1570                 1820       7212         4239         4018   \n",
              "1  052020         0                 5081      17795         8994        10640   \n",
              "2  082020      2181                 2548       9783         6437         5611   \n",
              "3  112020      1449                 1538       5946         4445         3582   \n",
              "4  062020         0                 3735      13588         7018         7891   \n",
              "5  072020      2832                 3042      11553         6757         6787   \n",
              "6  102020      1282                 1441       5802         3873         3283   \n",
              "\n",
              "   DorPeito  DorOlhos  Fadiga  Febre  NarizEntupidoEscorrendo  Nausea  \\\n",
              "0      1321      1450    2935   3084                     5927    1391   \n",
              "1      4178      4848    5953   8448                    13422    3850   \n",
              "2      1864      2159    3890   4880                     8579    2031   \n",
              "3      1065      1157    2712   3168                     5349    1292   \n",
              "4      3023      3618    4569   6545                    10059    2884   \n",
              "5      2422      2740    4545   5832                     9111    2550   \n",
              "6      1062      1064    2561   2768                     4864    1275   \n",
              "\n",
              "   PerdaCheiroSabor  Tosse  TotalLinhas  \n",
              "0              1632   5540       387298  \n",
              "1              6150  12099       349306  \n",
              "2              2578   7863       386520  \n",
              "3              1467   5259       381438  \n",
              "4              4402   8973       381270  \n",
              "5              3394   8482       384166  \n",
              "6              1314   4574       380461  \n",
              "\n",
              "[7 rows x 15 columns]"
            ],
            "text/html": [
              "<div>\n",
              "<style scoped>\n",
              "    .dataframe tbody tr th:only-of-type {\n",
              "        vertical-align: middle;\n",
              "    }\n",
              "\n",
              "    .dataframe tbody tr th {\n",
              "        vertical-align: top;\n",
              "    }\n",
              "\n",
              "    .dataframe thead th {\n",
              "        text-align: right;\n",
              "    }\n",
              "</style>\n",
              "<table border=\"1\" class=\"dataframe\">\n",
              "  <thead>\n",
              "    <tr style=\"text-align: right;\">\n",
              "      <th></th>\n",
              "      <th>MesAno</th>\n",
              "      <th>Diarreia</th>\n",
              "      <th>DificuldadeRespirar</th>\n",
              "      <th>DorCabeca</th>\n",
              "      <th>DorGarganta</th>\n",
              "      <th>DorMuscular</th>\n",
              "      <th>DorPeito</th>\n",
              "      <th>DorOlhos</th>\n",
              "      <th>Fadiga</th>\n",
              "      <th>Febre</th>\n",
              "      <th>NarizEntupidoEscorrendo</th>\n",
              "      <th>Nausea</th>\n",
              "      <th>PerdaCheiroSabor</th>\n",
              "      <th>Tosse</th>\n",
              "      <th>TotalLinhas</th>\n",
              "    </tr>\n",
              "  </thead>\n",
              "  <tbody>\n",
              "    <tr>\n",
              "      <th>0</th>\n",
              "      <td>092020</td>\n",
              "      <td>1570</td>\n",
              "      <td>1820</td>\n",
              "      <td>7212</td>\n",
              "      <td>4239</td>\n",
              "      <td>4018</td>\n",
              "      <td>1321</td>\n",
              "      <td>1450</td>\n",
              "      <td>2935</td>\n",
              "      <td>3084</td>\n",
              "      <td>5927</td>\n",
              "      <td>1391</td>\n",
              "      <td>1632</td>\n",
              "      <td>5540</td>\n",
              "      <td>387298</td>\n",
              "    </tr>\n",
              "    <tr>\n",
              "      <th>1</th>\n",
              "      <td>052020</td>\n",
              "      <td>0</td>\n",
              "      <td>5081</td>\n",
              "      <td>17795</td>\n",
              "      <td>8994</td>\n",
              "      <td>10640</td>\n",
              "      <td>4178</td>\n",
              "      <td>4848</td>\n",
              "      <td>5953</td>\n",
              "      <td>8448</td>\n",
              "      <td>13422</td>\n",
              "      <td>3850</td>\n",
              "      <td>6150</td>\n",
              "      <td>12099</td>\n",
              "      <td>349306</td>\n",
              "    </tr>\n",
              "    <tr>\n",
              "      <th>2</th>\n",
              "      <td>082020</td>\n",
              "      <td>2181</td>\n",
              "      <td>2548</td>\n",
              "      <td>9783</td>\n",
              "      <td>6437</td>\n",
              "      <td>5611</td>\n",
              "      <td>1864</td>\n",
              "      <td>2159</td>\n",
              "      <td>3890</td>\n",
              "      <td>4880</td>\n",
              "      <td>8579</td>\n",
              "      <td>2031</td>\n",
              "      <td>2578</td>\n",
              "      <td>7863</td>\n",
              "      <td>386520</td>\n",
              "    </tr>\n",
              "    <tr>\n",
              "      <th>3</th>\n",
              "      <td>112020</td>\n",
              "      <td>1449</td>\n",
              "      <td>1538</td>\n",
              "      <td>5946</td>\n",
              "      <td>4445</td>\n",
              "      <td>3582</td>\n",
              "      <td>1065</td>\n",
              "      <td>1157</td>\n",
              "      <td>2712</td>\n",
              "      <td>3168</td>\n",
              "      <td>5349</td>\n",
              "      <td>1292</td>\n",
              "      <td>1467</td>\n",
              "      <td>5259</td>\n",
              "      <td>381438</td>\n",
              "    </tr>\n",
              "    <tr>\n",
              "      <th>4</th>\n",
              "      <td>062020</td>\n",
              "      <td>0</td>\n",
              "      <td>3735</td>\n",
              "      <td>13588</td>\n",
              "      <td>7018</td>\n",
              "      <td>7891</td>\n",
              "      <td>3023</td>\n",
              "      <td>3618</td>\n",
              "      <td>4569</td>\n",
              "      <td>6545</td>\n",
              "      <td>10059</td>\n",
              "      <td>2884</td>\n",
              "      <td>4402</td>\n",
              "      <td>8973</td>\n",
              "      <td>381270</td>\n",
              "    </tr>\n",
              "    <tr>\n",
              "      <th>5</th>\n",
              "      <td>072020</td>\n",
              "      <td>2832</td>\n",
              "      <td>3042</td>\n",
              "      <td>11553</td>\n",
              "      <td>6757</td>\n",
              "      <td>6787</td>\n",
              "      <td>2422</td>\n",
              "      <td>2740</td>\n",
              "      <td>4545</td>\n",
              "      <td>5832</td>\n",
              "      <td>9111</td>\n",
              "      <td>2550</td>\n",
              "      <td>3394</td>\n",
              "      <td>8482</td>\n",
              "      <td>384166</td>\n",
              "    </tr>\n",
              "    <tr>\n",
              "      <th>6</th>\n",
              "      <td>102020</td>\n",
              "      <td>1282</td>\n",
              "      <td>1441</td>\n",
              "      <td>5802</td>\n",
              "      <td>3873</td>\n",
              "      <td>3283</td>\n",
              "      <td>1062</td>\n",
              "      <td>1064</td>\n",
              "      <td>2561</td>\n",
              "      <td>2768</td>\n",
              "      <td>4864</td>\n",
              "      <td>1275</td>\n",
              "      <td>1314</td>\n",
              "      <td>4574</td>\n",
              "      <td>380461</td>\n",
              "    </tr>\n",
              "  </tbody>\n",
              "</table>\n",
              "<p>7 rows × 15 columns</p>\n",
              "</div>[7 rows x 15 columns in total]"
            ]
          },
          "metadata": {},
          "execution_count": 17
        }
      ],
      "source": [
        "# Running this code will read results from your previous job\n",
        "\n",
        "job = client.get_job('bquxjob_7dd1d0cc_195ac1cb4a1') # Job ID inserted based on the query results selected to explore\n",
        "destination = job.destination\n",
        "\n",
        "# Load data from a BigQuery table using BigFrames DataFrames:\n",
        "bq_df = bpd.read_gbq(f\"{destination.project}.{destination.dataset_id}.{destination.table_id}\")\n",
        "bq_df"
      ]
    },
    {
      "cell_type": "markdown",
      "metadata": {
        "id": "84Ub57pbB6EN"
      },
      "source": [
        "## Show descriptive statistics using describe()\n",
        "Use the ```DataFrame.describe()```\n",
        "[method](https://cloud.google.com/python/docs/reference/bigframes/latest/bigframes.dataframe.DataFrame#bigframes_dataframe_DataFrame_describe)\n",
        "to generate descriptive statistics. Descriptive statistics include those that\n",
        "summarize the central tendency, dispersion and shape of a dataset’s\n",
        "distribution, excluding ```NaN``` values. You may also use other Python methods\n",
        "to interact with your data."
      ]
    },
    {
      "cell_type": "code",
      "source": [
        "# Generate descriptive statistics.\n",
        "bq_df.describe()"
      ],
      "metadata": {
        "id": "fsAsHoWDZMpv",
        "colab": {
          "base_uri": "https://localhost:8080/",
          "height": 384
        },
        "executionInfo": {
          "status": "ok",
          "timestamp": 1742432752050,
          "user_tz": 240,
          "elapsed": 2954,
          "user": {
            "displayName": "",
            "userId": ""
          }
        },
        "outputId": "2acda423-8013-46e7-c9a3-3008871c7a24"
      },
      "execution_count": 18,
      "outputs": [
        {
          "output_type": "display_data",
          "data": {
            "text/plain": [
              "<IPython.core.display.HTML object>"
            ],
            "text/html": [
              "Query job 5c8fc0bd-099d-41c0-aa0b-08eab579f95b is DONE. 0 Bytes processed. <a target=\"_blank\" href=\"https://console.cloud.google.com/bigquery?project=postechanalyticsfase3&j=bq:southamerica-east1:5c8fc0bd-099d-41c0-aa0b-08eab579f95b&page=queryresults\">Open Job</a>"
            ]
          },
          "metadata": {}
        },
        {
          "output_type": "execute_result",
          "data": {
            "text/plain": [
              "          Diarreia  DificuldadeRespirar     DorCabeca  DorGarganta  \\\n",
              "count          7.0                  7.0           7.0          7.0   \n",
              "mean   1330.571429          2743.571429  10239.857143  5966.142857   \n",
              "std    1048.178397          1327.710417   4425.739314  1861.882061   \n",
              "min            0.0               1441.0        5802.0       3873.0   \n",
              "25%            0.0               1538.0        5946.0       4239.0   \n",
              "50%         1449.0               2548.0        9783.0       6437.0   \n",
              "75%         2181.0               3735.0       13588.0       7018.0   \n",
              "max         2832.0               5081.0       17795.0       8994.0   \n",
              "\n",
              "       DorMuscular     DorPeito     DorOlhos       Fadiga        Febre  \\\n",
              "count          7.0          7.0          7.0          7.0          7.0   \n",
              "mean   5973.142857  2133.571429  2433.714286  3880.714286  4960.714286   \n",
              "std    2677.942583  1160.245212  1406.792891  1239.044082  2120.560202   \n",
              "min         3283.0       1062.0       1064.0       2561.0       2768.0   \n",
              "25%         3582.0       1065.0       1157.0       2712.0       3084.0   \n",
              "50%         5611.0       1864.0       2159.0       3890.0       4880.0   \n",
              "75%         7891.0       3023.0       3618.0       4569.0       6545.0   \n",
              "max        10640.0       4178.0       4848.0       5953.0       8448.0   \n",
              "\n",
              "       NarizEntupidoEscorrendo       Nausea  PerdaCheiroSabor        Tosse  \\\n",
              "count                      7.0          7.0               7.0          7.0   \n",
              "mean               8187.285714  2181.857143            2991.0  7541.428571   \n",
              "std                3058.355261   972.426763       1792.808133  2640.383991   \n",
              "min                     4864.0       1275.0            1314.0       4574.0   \n",
              "25%                     5349.0       1292.0            1467.0       5259.0   \n",
              "50%                     8579.0       2031.0            2578.0       7863.0   \n",
              "75%                    10059.0       2884.0            4402.0       8973.0   \n",
              "max                    13422.0       3850.0            6150.0      12099.0   \n",
              "\n",
              "        TotalLinhas  \n",
              "count           7.0  \n",
              "mean       378637.0  \n",
              "std    13204.401274  \n",
              "min        349306.0  \n",
              "25%        380461.0  \n",
              "50%        381438.0  \n",
              "75%        386520.0  \n",
              "max        387298.0  \n",
              "\n",
              "[8 rows x 14 columns]"
            ],
            "text/html": [
              "<div>\n",
              "<style scoped>\n",
              "    .dataframe tbody tr th:only-of-type {\n",
              "        vertical-align: middle;\n",
              "    }\n",
              "\n",
              "    .dataframe tbody tr th {\n",
              "        vertical-align: top;\n",
              "    }\n",
              "\n",
              "    .dataframe thead th {\n",
              "        text-align: right;\n",
              "    }\n",
              "</style>\n",
              "<table border=\"1\" class=\"dataframe\">\n",
              "  <thead>\n",
              "    <tr style=\"text-align: right;\">\n",
              "      <th></th>\n",
              "      <th>Diarreia</th>\n",
              "      <th>DificuldadeRespirar</th>\n",
              "      <th>DorCabeca</th>\n",
              "      <th>DorGarganta</th>\n",
              "      <th>DorMuscular</th>\n",
              "      <th>DorPeito</th>\n",
              "      <th>DorOlhos</th>\n",
              "      <th>Fadiga</th>\n",
              "      <th>Febre</th>\n",
              "      <th>NarizEntupidoEscorrendo</th>\n",
              "      <th>Nausea</th>\n",
              "      <th>PerdaCheiroSabor</th>\n",
              "      <th>Tosse</th>\n",
              "      <th>TotalLinhas</th>\n",
              "    </tr>\n",
              "  </thead>\n",
              "  <tbody>\n",
              "    <tr>\n",
              "      <th>count</th>\n",
              "      <td>7.0</td>\n",
              "      <td>7.0</td>\n",
              "      <td>7.0</td>\n",
              "      <td>7.0</td>\n",
              "      <td>7.0</td>\n",
              "      <td>7.0</td>\n",
              "      <td>7.0</td>\n",
              "      <td>7.0</td>\n",
              "      <td>7.0</td>\n",
              "      <td>7.0</td>\n",
              "      <td>7.0</td>\n",
              "      <td>7.0</td>\n",
              "      <td>7.0</td>\n",
              "      <td>7.0</td>\n",
              "    </tr>\n",
              "    <tr>\n",
              "      <th>mean</th>\n",
              "      <td>1330.571429</td>\n",
              "      <td>2743.571429</td>\n",
              "      <td>10239.857143</td>\n",
              "      <td>5966.142857</td>\n",
              "      <td>5973.142857</td>\n",
              "      <td>2133.571429</td>\n",
              "      <td>2433.714286</td>\n",
              "      <td>3880.714286</td>\n",
              "      <td>4960.714286</td>\n",
              "      <td>8187.285714</td>\n",
              "      <td>2181.857143</td>\n",
              "      <td>2991.0</td>\n",
              "      <td>7541.428571</td>\n",
              "      <td>378637.0</td>\n",
              "    </tr>\n",
              "    <tr>\n",
              "      <th>std</th>\n",
              "      <td>1048.178397</td>\n",
              "      <td>1327.710417</td>\n",
              "      <td>4425.739314</td>\n",
              "      <td>1861.882061</td>\n",
              "      <td>2677.942583</td>\n",
              "      <td>1160.245212</td>\n",
              "      <td>1406.792891</td>\n",
              "      <td>1239.044082</td>\n",
              "      <td>2120.560202</td>\n",
              "      <td>3058.355261</td>\n",
              "      <td>972.426763</td>\n",
              "      <td>1792.808133</td>\n",
              "      <td>2640.383991</td>\n",
              "      <td>13204.401274</td>\n",
              "    </tr>\n",
              "    <tr>\n",
              "      <th>min</th>\n",
              "      <td>0.0</td>\n",
              "      <td>1441.0</td>\n",
              "      <td>5802.0</td>\n",
              "      <td>3873.0</td>\n",
              "      <td>3283.0</td>\n",
              "      <td>1062.0</td>\n",
              "      <td>1064.0</td>\n",
              "      <td>2561.0</td>\n",
              "      <td>2768.0</td>\n",
              "      <td>4864.0</td>\n",
              "      <td>1275.0</td>\n",
              "      <td>1314.0</td>\n",
              "      <td>4574.0</td>\n",
              "      <td>349306.0</td>\n",
              "    </tr>\n",
              "    <tr>\n",
              "      <th>25%</th>\n",
              "      <td>0.0</td>\n",
              "      <td>1538.0</td>\n",
              "      <td>5946.0</td>\n",
              "      <td>4239.0</td>\n",
              "      <td>3582.0</td>\n",
              "      <td>1065.0</td>\n",
              "      <td>1157.0</td>\n",
              "      <td>2712.0</td>\n",
              "      <td>3084.0</td>\n",
              "      <td>5349.0</td>\n",
              "      <td>1292.0</td>\n",
              "      <td>1467.0</td>\n",
              "      <td>5259.0</td>\n",
              "      <td>380461.0</td>\n",
              "    </tr>\n",
              "    <tr>\n",
              "      <th>50%</th>\n",
              "      <td>1449.0</td>\n",
              "      <td>2548.0</td>\n",
              "      <td>9783.0</td>\n",
              "      <td>6437.0</td>\n",
              "      <td>5611.0</td>\n",
              "      <td>1864.0</td>\n",
              "      <td>2159.0</td>\n",
              "      <td>3890.0</td>\n",
              "      <td>4880.0</td>\n",
              "      <td>8579.0</td>\n",
              "      <td>2031.0</td>\n",
              "      <td>2578.0</td>\n",
              "      <td>7863.0</td>\n",
              "      <td>381438.0</td>\n",
              "    </tr>\n",
              "    <tr>\n",
              "      <th>75%</th>\n",
              "      <td>2181.0</td>\n",
              "      <td>3735.0</td>\n",
              "      <td>13588.0</td>\n",
              "      <td>7018.0</td>\n",
              "      <td>7891.0</td>\n",
              "      <td>3023.0</td>\n",
              "      <td>3618.0</td>\n",
              "      <td>4569.0</td>\n",
              "      <td>6545.0</td>\n",
              "      <td>10059.0</td>\n",
              "      <td>2884.0</td>\n",
              "      <td>4402.0</td>\n",
              "      <td>8973.0</td>\n",
              "      <td>386520.0</td>\n",
              "    </tr>\n",
              "    <tr>\n",
              "      <th>max</th>\n",
              "      <td>2832.0</td>\n",
              "      <td>5081.0</td>\n",
              "      <td>17795.0</td>\n",
              "      <td>8994.0</td>\n",
              "      <td>10640.0</td>\n",
              "      <td>4178.0</td>\n",
              "      <td>4848.0</td>\n",
              "      <td>5953.0</td>\n",
              "      <td>8448.0</td>\n",
              "      <td>13422.0</td>\n",
              "      <td>3850.0</td>\n",
              "      <td>6150.0</td>\n",
              "      <td>12099.0</td>\n",
              "      <td>387298.0</td>\n",
              "    </tr>\n",
              "  </tbody>\n",
              "</table>\n",
              "<p>8 rows × 14 columns</p>\n",
              "</div>[8 rows x 14 columns in total]"
            ]
          },
          "metadata": {},
          "execution_count": 18
        }
      ]
    },
    {
      "cell_type": "code",
      "source": [
        "# Convert BigQuery DataFrame to pandas DataFrame.\n",
        "pandas_df = bq_df.to_pandas()"
      ],
      "metadata": {
        "id": "fsAsHoWDZMpvh",
        "colab": {
          "base_uri": "https://localhost:8080/",
          "height": 34
        },
        "executionInfo": {
          "status": "ok",
          "timestamp": 1742432754836,
          "user_tz": 240,
          "elapsed": 2790,
          "user": {
            "displayName": "",
            "userId": ""
          }
        },
        "outputId": "c09dd06f-c94c-4ed2-ac6a-cd7ec2c0b373"
      },
      "execution_count": 19,
      "outputs": [
        {
          "output_type": "display_data",
          "data": {
            "text/plain": [
              "<IPython.core.display.HTML object>"
            ],
            "text/html": [
              "Query job 72e34f7b-2748-4532-bbaa-b44a0f1eb755 is DONE. 0 Bytes processed. <a target=\"_blank\" href=\"https://console.cloud.google.com/bigquery?project=postechanalyticsfase3&j=bq:southamerica-east1:72e34f7b-2748-4532-bbaa-b44a0f1eb755&page=queryresults\">Open Job</a>"
            ]
          },
          "metadata": {}
        }
      ]
    },
    {
      "cell_type": "code",
      "source": [
        "import pandas as pd\n",
        "import matplotlib.pyplot as plt\n",
        "\n",
        "# Supondo que bq_df já esteja carregado\n",
        "# Removendo as colunas 'MesAno' e 'TotalLinhas' se existirem\n",
        "colunas_sintomas = bq_df.columns.difference(['MesAno', 'TotalLinhas'])\n",
        "\n",
        "# Somando os valores de cada coluna\n",
        "soma_sintomas = bq_df[colunas_sintomas].sum()\n",
        "\n",
        "# Ordenando do maior para o menor\n",
        "soma_sintomas = soma_sintomas.sort_values(ascending=False)\n",
        "\n",
        "# Criando a figura e os eixos\n",
        "fig, ax = plt.subplots(figsize=(12, 6))\n",
        "\n",
        "# Criando o gráfico de barras horizontais\n",
        "barras = ax.bar(soma_sintomas.index, soma_sintomas.values, color='royalblue')\n",
        "\n",
        "# Adicionando rótulos diretamente nas barras\n",
        "ax.bar_label(barras, fmt='%.1f', padding=5, fontsize=10, color='black')\n",
        "\n",
        "# Personalizando o gráfico\n",
        "ax.set_xlabel(\"Sintomas\")\n",
        "ax.set_ylabel(\"Pacientes (Qtd)\")\n",
        "ax.set_ylim(0,80000)\n",
        "ax.set_title(\"Pacientes por sintomas (Qtd)\")\n",
        "ax.grid(axis='x', linestyle='--', alpha=0.7)\n",
        "plt.xticks(rotation=75)\n",
        "\n",
        "# Exibindo o gráfico\n",
        "plt.show()\n"
      ],
      "metadata": {
        "colab": {
          "base_uri": "https://localhost:8080/",
          "height": 862
        },
        "id": "P4IQ25_PJdD_",
        "outputId": "8158d690-2ab4-46a8-8be8-5801102f1a1f",
        "executionInfo": {
          "status": "ok",
          "timestamp": 1742432770645,
          "user_tz": 240,
          "elapsed": 15813,
          "user": {
            "displayName": "",
            "userId": ""
          }
        }
      },
      "execution_count": 20,
      "outputs": [
        {
          "output_type": "stream",
          "name": "stderr",
          "text": [
            "/usr/local/lib/python3.10/dist-packages/bigframes/core/blocks.py:142: NullIndexPreviewWarning: Creating object with Null Index. Null Index is a preview feature.\n",
            "  warnings.warn(msg, category=bfe.NullIndexPreviewWarning)\n"
          ]
        },
        {
          "output_type": "display_data",
          "data": {
            "text/plain": [
              "<IPython.core.display.HTML object>"
            ],
            "text/html": [
              "Query job eec24be4-a57a-400b-8569-8b5ac5104cc1 is DONE. 0 Bytes processed. <a target=\"_blank\" href=\"https://console.cloud.google.com/bigquery?project=postechanalyticsfase3&j=bq:southamerica-east1:eec24be4-a57a-400b-8569-8b5ac5104cc1&page=queryresults\">Open Job</a>"
            ]
          },
          "metadata": {}
        },
        {
          "output_type": "display_data",
          "data": {
            "text/plain": [
              "<IPython.core.display.HTML object>"
            ],
            "text/html": [
              "Query job da4f6482-53ab-41fa-b397-8395c4e16834 is DONE. 0 Bytes processed. <a target=\"_blank\" href=\"https://console.cloud.google.com/bigquery?project=postechanalyticsfase3&j=bq:southamerica-east1:da4f6482-53ab-41fa-b397-8395c4e16834&page=queryresults\">Open Job</a>"
            ]
          },
          "metadata": {}
        },
        {
          "output_type": "display_data",
          "data": {
            "text/plain": [
              "<IPython.core.display.HTML object>"
            ],
            "text/html": [
              "Query job bba9c272-5b7f-4b5b-85a1-e4a3850ecd6a is DONE. 0 Bytes processed. <a target=\"_blank\" href=\"https://console.cloud.google.com/bigquery?project=postechanalyticsfase3&j=bq:southamerica-east1:bba9c272-5b7f-4b5b-85a1-e4a3850ecd6a&page=queryresults\">Open Job</a>"
            ]
          },
          "metadata": {}
        },
        {
          "output_type": "display_data",
          "data": {
            "text/plain": [
              "<IPython.core.display.HTML object>"
            ],
            "text/html": [
              "Query job 2dcab032-a519-45c4-a7f2-0fd37c6ae046 is DONE. 0 Bytes processed. <a target=\"_blank\" href=\"https://console.cloud.google.com/bigquery?project=postechanalyticsfase3&j=bq:southamerica-east1:2dcab032-a519-45c4-a7f2-0fd37c6ae046&page=queryresults\">Open Job</a>"
            ]
          },
          "metadata": {}
        },
        {
          "output_type": "display_data",
          "data": {
            "text/plain": [
              "<IPython.core.display.HTML object>"
            ],
            "text/html": [
              "Query job 56869cd7-61db-4d88-85e1-31a94000851a is DONE. 0 Bytes processed. <a target=\"_blank\" href=\"https://console.cloud.google.com/bigquery?project=postechanalyticsfase3&j=bq:southamerica-east1:56869cd7-61db-4d88-85e1-31a94000851a&page=queryresults\">Open Job</a>"
            ]
          },
          "metadata": {}
        },
        {
          "output_type": "display_data",
          "data": {
            "text/plain": [
              "<IPython.core.display.HTML object>"
            ],
            "text/html": [
              "Query job bd34e412-152e-4349-a2dc-a6fdf9ff74a3 is DONE. 0 Bytes processed. <a target=\"_blank\" href=\"https://console.cloud.google.com/bigquery?project=postechanalyticsfase3&j=bq:southamerica-east1:bd34e412-152e-4349-a2dc-a6fdf9ff74a3&page=queryresults\">Open Job</a>"
            ]
          },
          "metadata": {}
        },
        {
          "output_type": "display_data",
          "data": {
            "text/plain": [
              "<Figure size 1200x600 with 1 Axes>"
            ],
            "image/png": "[encoded data removed]"
          },
          "metadata": {}
        }
      ]
    }
  ]
}