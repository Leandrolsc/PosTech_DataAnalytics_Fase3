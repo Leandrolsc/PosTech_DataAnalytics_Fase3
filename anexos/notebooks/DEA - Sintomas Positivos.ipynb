{
  "nbformat": 4,
  "nbformat_minor": 0,
  "metadata": {
    "colab": {
      "cell_execution_strategy": "setup",
      "provenance": []
    },
    "kernelspec": {
      "name": "python3",
      "display_name": "Python 3"
    },
    "language_info": {
      "name": "python"
    }
  },
  "cells": [
    {
      "cell_type": "code",
      "source": [
        "# @title Setup\n",
        "from google.cloud import bigquery\n",
        "from google.colab import data_table\n",
        "import bigframes.pandas as bpd\n",
        "\n",
        "project = 'postechanalyticsfase3' # Project ID inserted based on the query results selected to explore\n",
        "location = 'southamerica-east1' # Location inserted based on the query results selected to explore\n",
        "client = bigquery.Client(project=project, location=location)\n",
        "data_table.enable_dataframe_formatter()"
      ],
      "metadata": {
        "id": "w6MmeBUBJ-9E",
        "cellView": "form",
        "executionInfo": {
          "status": "ok",
          "timestamp": 1742434888956,
          "user_tz": 240,
          "elapsed": 1403,
          "user": {
            "displayName": "",
            "userId": ""
          }
        }
      },
      "execution_count": 1,
      "outputs": []
    },
    {
      "metadata": {
        "id": "pj42soltXW_H"
      },
      "cell_type": "markdown",
      "source": [
        "## Reference SQL syntax from the original job\n",
        "Use the ```jobs.query```\n",
        "[method](https://cloud.google.com/bigquery/docs/reference/rest/v2/jobs/query) to\n",
        "return the SQL syntax from the job. This can be copied from the output cell\n",
        "below to edit the query now or in the future. Alternatively, you can use\n",
        "[this link](https://console.cloud.google.com/bigquery?j=postechanalyticsfase3:southamerica-east1:bquxjob_1c706d8_195b135df3a)\n",
        "back to BigQuery to edit the query within the BigQuery user interface."
      ]
    },
    {
      "metadata": {
        "id": "KxSqPfAeXW_K",
        "colab": {
          "base_uri": "https://localhost:8080/"
        },
        "executionInfo": {
          "status": "ok",
          "timestamp": 1742434889425,
          "user_tz": 240,
          "elapsed": 471,
          "user": {
            "displayName": "",
            "userId": ""
          }
        },
        "outputId": "241c6b9a-f724-4a99-8977-5b32c304688a"
      },
      "cell_type": "code",
      "source": [
        "# Running this code will display the query used to generate your previous job\n",
        "\n",
        "job = client.get_job('bquxjob_1c706d8_195b135df3a') # Job ID inserted based on the query results selected to explore\n",
        "print(job.query)"
      ],
      "outputs": [
        {
          "output_type": "stream",
          "name": "stdout",
          "text": [
            "SELECT '112020' as MesAno\r\n",
            "      ,COUNT(CASE B00113 WHEN 1 THEN 1 END)  as Diarreia\r\n",
            "      ,COUNT(CASE B0014  WHEN 1 THEN 1 END)  as DificuldadeRespirar\r\n",
            "      ,COUNT(CASE B0015  WHEN 1 THEN 1 END)  as DorCabeca\r\n",
            "      ,COUNT(CASE B0013  WHEN 1 THEN 1 END)  as DorGarganta\r\n",
            "      ,COUNT(CASE B00112 WHEN 1 THEN 1 END)  as DorMuscular\r\n",
            "      ,COUNT(CASE B0016  WHEN 1 THEN 1 END)  as DorPeito\r\n",
            "      ,COUNT(CASE B00110 WHEN 1 THEN 1 END)  as DorOlhos\r\n",
            "      ,COUNT(CASE B0019  WHEN 1 THEN 1 END)  as Fadiga\r\n",
            "      ,COUNT(CASE B0011  WHEN 1 THEN 1 END)  as Febre\r\n",
            "      ,COUNT(CASE B0018  WHEN 1 THEN 1 END)  as NarizEntupidoEscorrendo\r\n",
            "      ,COUNT(CASE B0017  WHEN 1 THEN 1 END)  as Nausea    \r\n",
            "      ,COUNT(CASE B00111 WHEN 1 THEN 1 END)  as PerdaCheiroSabor\r\n",
            "      ,COUNT(CASE B0012  WHEN 1 THEN 1 END)  as Tosse\r\n",
            "      ,COUNT(*) TotalLinhas\r\n",
            "FROM `PNAD_COVID.PNAD_COVID_112020` \r\n",
            "WHERE CASE \r\n",
            "                WHEN B009B = 1 THEN 1\r\n",
            "                WHEN B009D = 1 THEN 1\r\n",
            "                WHEN B009F = 1 THEN 1\r\n",
            "            END = 1\r\n",
            "UNION ALL\r\n",
            "SELECT '102020' as MesAno\r\n",
            "      ,COUNT(CASE B00113 WHEN 1 THEN 1 END)  as Diarreia\r\n",
            "      ,COUNT(CASE B0014  WHEN 1 THEN 1 END)  as DificuldadeRespirar\r\n",
            "      ,COUNT(CASE B0015  WHEN 1 THEN 1 END)  as DorCabeca\r\n",
            "      ,COUNT(CASE B0013  WHEN 1 THEN 1 END)  as DorGarganta\r\n",
            "      ,COUNT(CASE B00112 WHEN 1 THEN 1 END)  as DorMuscular\r\n",
            "      ,COUNT(CASE B0016  WHEN 1 THEN 1 END)  as DorPeito\r\n",
            "      ,COUNT(CASE B00110 WHEN 1 THEN 1 END)  as DorOlhos\r\n",
            "      ,COUNT(CASE B0019  WHEN 1 THEN 1 END)  as Fadiga\r\n",
            "      ,COUNT(CASE B0011  WHEN 1 THEN 1 END)  as Febre\r\n",
            "      ,COUNT(CASE B0018  WHEN 1 THEN 1 END)  as NarizEntupidoEscorrendo\r\n",
            "      ,COUNT(CASE B0017  WHEN 1 THEN 1 END)  as Nausea    \r\n",
            "      ,COUNT(CASE B00111 WHEN 1 THEN 1 END)  as PerdaCheiroSabor\r\n",
            "      ,COUNT(CASE B0012  WHEN 1 THEN 1 END)  as Tosse\r\n",
            "      ,COUNT(*) TotalLinhas\r\n",
            "FROM `PNAD_COVID.PNAD_COVID_102020` \r\n",
            "WHERE CASE \r\n",
            "                WHEN B009B = 1 THEN 1\r\n",
            "                WHEN B009D = 1 THEN 1\r\n",
            "                WHEN B009F = 1 THEN 1\r\n",
            "            END = 1\r\n",
            "UNION ALL\r\n",
            "SELECT '092020' as MesAno\r\n",
            "      ,COUNT(CASE B00113 WHEN 1 THEN 1 END)  as Diarreia\r\n",
            "      ,COUNT(CASE B0014  WHEN 1 THEN 1 END)  as DificuldadeRespirar\r\n",
            "      ,COUNT(CASE B0015  WHEN 1 THEN 1 END)  as DorCabeca\r\n",
            "      ,COUNT(CASE B0013  WHEN 1 THEN 1 END)  as DorGarganta\r\n",
            "      ,COUNT(CASE B00112 WHEN 1 THEN 1 END)  as DorMuscular\r\n",
            "      ,COUNT(CASE B0016  WHEN 1 THEN 1 END)  as DorPeito\r\n",
            "      ,COUNT(CASE B00110 WHEN 1 THEN 1 END)  as DorOlhos\r\n",
            "      ,COUNT(CASE B0019  WHEN 1 THEN 1 END)  as Fadiga\r\n",
            "      ,COUNT(CASE B0011  WHEN 1 THEN 1 END)  as Febre\r\n",
            "      ,COUNT(CASE B0018  WHEN 1 THEN 1 END)  as NarizEntupidoEscorrendo\r\n",
            "      ,COUNT(CASE B0017  WHEN 1 THEN 1 END)  as Nausea    \r\n",
            "      ,COUNT(CASE B00111 WHEN 1 THEN 1 END)  as PerdaCheiroSabor\r\n",
            "      ,COUNT(CASE B0012  WHEN 1 THEN 1 END)  as Tosse\r\n",
            "      ,COUNT(*) TotalLinhas\r\n",
            "FROM `PNAD_COVID.PNAD_COVID_092020` \r\n",
            "WHERE CASE \r\n",
            "                WHEN B009B = 1 THEN 1\r\n",
            "                WHEN B009D = 1 THEN 1\r\n",
            "                WHEN B009F = 1 THEN 1\r\n",
            "            END = 1\r\n",
            "UNION ALL\r\n",
            "SELECT '082020' as MesAno\r\n",
            "      ,COUNT(CASE B00113 WHEN 1 THEN 1 END)  as Diarreia\r\n",
            "      ,COUNT(CASE B0014  WHEN 1 THEN 1 END)  as DificuldadeRespirar\r\n",
            "      ,COUNT(CASE B0015  WHEN 1 THEN 1 END)  as DorCabeca\r\n",
            "      ,COUNT(CASE B0013  WHEN 1 THEN 1 END)  as DorGarganta\r\n",
            "      ,COUNT(CASE B00112 WHEN 1 THEN 1 END)  as DorMuscular\r\n",
            "      ,COUNT(CASE B0016  WHEN 1 THEN 1 END)  as DorPeito\r\n",
            "      ,COUNT(CASE B00110 WHEN 1 THEN 1 END)  as DorOlhos\r\n",
            "      ,COUNT(CASE B0019  WHEN 1 THEN 1 END)  as Fadiga\r\n",
            "      ,COUNT(CASE B0011  WHEN 1 THEN 1 END)  as Febre\r\n",
            "      ,COUNT(CASE B0018  WHEN 1 THEN 1 END)  as NarizEntupidoEscorrendo\r\n",
            "      ,COUNT(CASE B0017  WHEN 1 THEN 1 END)  as Nausea    \r\n",
            "      ,COUNT(CASE B00111 WHEN 1 THEN 1 END)  as PerdaCheiroSabor\r\n",
            "      ,COUNT(CASE B0012  WHEN 1 THEN 1 END)  as Tosse\r\n",
            "      ,COUNT(*) TotalLinhas\r\n",
            "FROM `PNAD_COVID.PNAD_COVID_082020` \r\n",
            "WHERE CASE \r\n",
            "                WHEN B009B = 1 THEN 1\r\n",
            "                WHEN B009D = 1 THEN 1\r\n",
            "                WHEN B009F = 1 THEN 1\r\n",
            "            END = 1\r\n",
            "UNION ALL\r\n",
            "SELECT '072020' as MesAno\r\n",
            "      ,COUNT(CASE B00113 WHEN 1 THEN 1 END)  as Diarreia\r\n",
            "      ,COUNT(CASE B0014  WHEN 1 THEN 1 END)  as DificuldadeRespirar\r\n",
            "      ,COUNT(CASE B0015  WHEN 1 THEN 1 END)  as DorCabeca\r\n",
            "      ,COUNT(CASE B0013  WHEN 1 THEN 1 END)  as DorGarganta\r\n",
            "      ,COUNT(CASE B00112 WHEN 1 THEN 1 END)  as DorMuscular\r\n",
            "      ,COUNT(CASE B0016  WHEN 1 THEN 1 END)  as DorPeito\r\n",
            "      ,COUNT(CASE B00110 WHEN 1 THEN 1 END)  as DorOlhos\r\n",
            "      ,COUNT(CASE B0019  WHEN 1 THEN 1 END)  as Fadiga\r\n",
            "      ,COUNT(CASE B0011  WHEN 1 THEN 1 END)  as Febre\r\n",
            "      ,COUNT(CASE B0018  WHEN 1 THEN 1 END)  as NarizEntupidoEscorrendo\r\n",
            "      ,COUNT(CASE B0017  WHEN 1 THEN 1 END)  as Nausea    \r\n",
            "      ,COUNT(CASE B00111 WHEN 1 THEN 1 END)  as PerdaCheiroSabor\r\n",
            "      ,COUNT(CASE B0012  WHEN 1 THEN 1 END)  as Tosse\r\n",
            "      ,COUNT(*) TotalLinhas\r\n",
            "FROM `PNAD_COVID.PNAD_COVID_072020` \r\n",
            "WHERE CASE \r\n",
            "                WHEN B009B = 1 THEN 1\r\n",
            "                WHEN B009D = 1 THEN 1\r\n",
            "                WHEN B009F = 1 THEN 1\r\n",
            "            END = 1\r\n",
            "ORDER BY 1\n"
          ]
        }
      ],
      "execution_count": 2
    },
    {
      "cell_type": "markdown",
      "metadata": {
        "id": "eY-wNOGO11ON"
      },
      "source": [
        "# Result set loaded from BigQuery job as a DataFrame\n",
        "Query results are referenced from the Job ID ran from BigQuery and the query\n",
        "does not need to be re-run to explore results. The ```to_dataframe```\n",
        "[method](https://googleapis.dev/python/bigquery/latest/generated/google.cloud.bigquery.job.QueryJob.html#google.cloud.bigquery.job.QueryJob.to_dataframe)\n",
        "downloads the results to a Pandas DataFrame by using the BigQuery Storage API. The read_gbq_table [method](https://cloud.google.com/python/docs/reference/bigframes/latest/bigframes.pandas#bigframes_pandas_read_gbq_function) turns a BigQuery table into the BigFrames DataFrame.\n",
        "\n",
        "To edit query syntax, you can do so from the BigQuery SQL editor or in the\n",
        "```Optional:``` sections below."
      ]
    },
    {
      "cell_type": "code",
      "execution_count": 3,
      "metadata": {
        "id": "bIw82qhuHWy0",
        "colab": {
          "base_uri": "https://localhost:8080/",
          "height": 307
        },
        "executionInfo": {
          "status": "ok",
          "timestamp": 1742434894211,
          "user_tz": 240,
          "elapsed": 4788,
          "user": {
            "displayName": "",
            "userId": ""
          }
        },
        "outputId": "9e085d35-6d53-4430-e453-dc4825a74825"
      },
      "outputs": [
        {
          "output_type": "display_data",
          "data": {
            "text/plain": [
              "<IPython.core.display.HTML object>"
            ],
            "text/html": [
              "Query job 655e9223-2863-422b-a357-901bced5e2ce is DONE. 0 Bytes processed. <a target=\"_blank\" href=\"https://console.cloud.google.com/bigquery?project=postechanalyticsfase3&j=bq:southamerica-east1:655e9223-2863-422b-a357-901bced5e2ce&page=queryresults\">Open Job</a>"
            ]
          },
          "metadata": {}
        },
        {
          "output_type": "display_data",
          "data": {
            "text/plain": [
              "<IPython.core.display.HTML object>"
            ],
            "text/html": [
              "Query job a5bf1315-15c5-48fa-8c72-a1ae00e1b7ed is DONE. 0 Bytes processed. <a target=\"_blank\" href=\"https://console.cloud.google.com/bigquery?project=postechanalyticsfase3&j=bq:southamerica-east1:a5bf1315-15c5-48fa-8c72-a1ae00e1b7ed&page=queryresults\">Open Job</a>"
            ]
          },
          "metadata": {}
        },
        {
          "output_type": "execute_result",
          "data": {
            "text/plain": [
              "   MesAno  Diarreia  DificuldadeRespirar  DorCabeca  DorGarganta  DorMuscular  \\\n",
              "0  072020       473                  653       1058          766          902   \n",
              "1  092020       286                  409        813          544          667   \n",
              "2  102020       213                  304        654          472          523   \n",
              "3  112020       281                  342        734          560          607   \n",
              "4  082020       467                  622       1058          786          909   \n",
              "\n",
              "   DorPeito  DorOlhos  Fadiga  Febre  NarizEntupidoEscorrendo  Nausea  \\\n",
              "0       502       505     812    957                      696     483   \n",
              "1       318       319     593    640                      498     303   \n",
              "2       229       217     485    517                      436     249   \n",
              "3       274       262     555    588                      512     300   \n",
              "4       469       487     807    979                      703     483   \n",
              "\n",
              "   PerdaCheiroSabor  Tosse  TotalLinhas  \n",
              "0               895    971         5327  \n",
              "1               619    664         9519  \n",
              "2               484    545        10951  \n",
              "3               549    663        12452  \n",
              "4               834    932         7639  \n",
              "\n",
              "[5 rows x 15 columns]"
            ],
            "text/html": [
              "<div>\n",
              "<style scoped>\n",
              "    .dataframe tbody tr th:only-of-type {\n",
              "        vertical-align: middle;\n",
              "    }\n",
              "\n",
              "    .dataframe tbody tr th {\n",
              "        vertical-align: top;\n",
              "    }\n",
              "\n",
              "    .dataframe thead th {\n",
              "        text-align: right;\n",
              "    }\n",
              "</style>\n",
              "<table border=\"1\" class=\"dataframe\">\n",
              "  <thead>\n",
              "    <tr style=\"text-align: right;\">\n",
              "      <th></th>\n",
              "      <th>MesAno</th>\n",
              "      <th>Diarreia</th>\n",
              "      <th>DificuldadeRespirar</th>\n",
              "      <th>DorCabeca</th>\n",
              "      <th>DorGarganta</th>\n",
              "      <th>DorMuscular</th>\n",
              "      <th>DorPeito</th>\n",
              "      <th>DorOlhos</th>\n",
              "      <th>Fadiga</th>\n",
              "      <th>Febre</th>\n",
              "      <th>NarizEntupidoEscorrendo</th>\n",
              "      <th>Nausea</th>\n",
              "      <th>PerdaCheiroSabor</th>\n",
              "      <th>Tosse</th>\n",
              "      <th>TotalLinhas</th>\n",
              "    </tr>\n",
              "  </thead>\n",
              "  <tbody>\n",
              "    <tr>\n",
              "      <th>0</th>\n",
              "      <td>072020</td>\n",
              "      <td>473</td>\n",
              "      <td>653</td>\n",
              "      <td>1058</td>\n",
              "      <td>766</td>\n",
              "      <td>902</td>\n",
              "      <td>502</td>\n",
              "      <td>505</td>\n",
              "      <td>812</td>\n",
              "      <td>957</td>\n",
              "      <td>696</td>\n",
              "      <td>483</td>\n",
              "      <td>895</td>\n",
              "      <td>971</td>\n",
              "      <td>5327</td>\n",
              "    </tr>\n",
              "    <tr>\n",
              "      <th>1</th>\n",
              "      <td>092020</td>\n",
              "      <td>286</td>\n",
              "      <td>409</td>\n",
              "      <td>813</td>\n",
              "      <td>544</td>\n",
              "      <td>667</td>\n",
              "      <td>318</td>\n",
              "      <td>319</td>\n",
              "      <td>593</td>\n",
              "      <td>640</td>\n",
              "      <td>498</td>\n",
              "      <td>303</td>\n",
              "      <td>619</td>\n",
              "      <td>664</td>\n",
              "      <td>9519</td>\n",
              "    </tr>\n",
              "    <tr>\n",
              "      <th>2</th>\n",
              "      <td>102020</td>\n",
              "      <td>213</td>\n",
              "      <td>304</td>\n",
              "      <td>654</td>\n",
              "      <td>472</td>\n",
              "      <td>523</td>\n",
              "      <td>229</td>\n",
              "      <td>217</td>\n",
              "      <td>485</td>\n",
              "      <td>517</td>\n",
              "      <td>436</td>\n",
              "      <td>249</td>\n",
              "      <td>484</td>\n",
              "      <td>545</td>\n",
              "      <td>10951</td>\n",
              "    </tr>\n",
              "    <tr>\n",
              "      <th>3</th>\n",
              "      <td>112020</td>\n",
              "      <td>281</td>\n",
              "      <td>342</td>\n",
              "      <td>734</td>\n",
              "      <td>560</td>\n",
              "      <td>607</td>\n",
              "      <td>274</td>\n",
              "      <td>262</td>\n",
              "      <td>555</td>\n",
              "      <td>588</td>\n",
              "      <td>512</td>\n",
              "      <td>300</td>\n",
              "      <td>549</td>\n",
              "      <td>663</td>\n",
              "      <td>12452</td>\n",
              "    </tr>\n",
              "    <tr>\n",
              "      <th>4</th>\n",
              "      <td>082020</td>\n",
              "      <td>467</td>\n",
              "      <td>622</td>\n",
              "      <td>1058</td>\n",
              "      <td>786</td>\n",
              "      <td>909</td>\n",
              "      <td>469</td>\n",
              "      <td>487</td>\n",
              "      <td>807</td>\n",
              "      <td>979</td>\n",
              "      <td>703</td>\n",
              "      <td>483</td>\n",
              "      <td>834</td>\n",
              "      <td>932</td>\n",
              "      <td>7639</td>\n",
              "    </tr>\n",
              "  </tbody>\n",
              "</table>\n",
              "<p>5 rows × 15 columns</p>\n",
              "</div>[5 rows x 15 columns in total]"
            ]
          },
          "metadata": {},
          "execution_count": 3
        }
      ],
      "source": [
        "# Running this code will read results from your previous job\n",
        "\n",
        "job = client.get_job('bquxjob_1c706d8_195b135df3a') # Job ID inserted based on the query results selected to explore\n",
        "destination = job.destination\n",
        "\n",
        "# Load data from a BigQuery table using BigFrames DataFrames:\n",
        "bq_df = bpd.read_gbq(f\"{destination.project}.{destination.dataset_id}.{destination.table_id}\")\n",
        "bq_df"
      ]
    },
    {
      "cell_type": "markdown",
      "metadata": {
        "id": "84Ub57pbB6EN"
      },
      "source": [
        "## Show descriptive statistics using describe()\n",
        "Use the ```DataFrame.describe()```\n",
        "[method](https://cloud.google.com/python/docs/reference/bigframes/latest/bigframes.dataframe.DataFrame#bigframes_dataframe_DataFrame_describe)\n",
        "to generate descriptive statistics. Descriptive statistics include those that\n",
        "summarize the central tendency, dispersion and shape of a dataset’s\n",
        "distribution, excluding ```NaN``` values. You may also use other Python methods\n",
        "to interact with your data."
      ]
    },
    {
      "cell_type": "code",
      "source": [
        "# Generate descriptive statistics.\n",
        "bq_df.describe()"
      ],
      "metadata": {
        "id": "fsAsHoWDZMpv",
        "colab": {
          "base_uri": "https://localhost:8080/",
          "height": 384
        },
        "executionInfo": {
          "status": "ok",
          "timestamp": 1742434897188,
          "user_tz": 240,
          "elapsed": 2980,
          "user": {
            "displayName": "",
            "userId": ""
          }
        },
        "outputId": "bb8fdda3-4628-4f69-9dfe-daee4b19962d"
      },
      "execution_count": 4,
      "outputs": [
        {
          "output_type": "display_data",
          "data": {
            "text/plain": [
              "<IPython.core.display.HTML object>"
            ],
            "text/html": [
              "Query job c4665038-bdae-401b-807e-f010834196e2 is DONE. 0 Bytes processed. <a target=\"_blank\" href=\"https://console.cloud.google.com/bigquery?project=postechanalyticsfase3&j=bq:southamerica-east1:c4665038-bdae-401b-807e-f010834196e2&page=queryresults\">Open Job</a>"
            ]
          },
          "metadata": {}
        },
        {
          "output_type": "execute_result",
          "data": {
            "text/plain": [
              "         Diarreia  DificuldadeRespirar   DorCabeca  DorGarganta  DorMuscular  \\\n",
              "count         5.0                  5.0         5.0          5.0          5.0   \n",
              "mean        344.0                466.0       863.4        625.6        721.6   \n",
              "std    118.600169           161.379986  186.327132   141.417114   175.512962   \n",
              "min         213.0                304.0       654.0        472.0        523.0   \n",
              "25%         281.0                342.0       734.0        544.0        607.0   \n",
              "50%         286.0                409.0       813.0        560.0        667.0   \n",
              "75%         467.0                622.0      1058.0        766.0        902.0   \n",
              "max         473.0                653.0      1058.0        786.0        909.0   \n",
              "\n",
              "         DorPeito    DorOlhos      Fadiga       Febre  \\\n",
              "count         5.0         5.0         5.0         5.0   \n",
              "mean        358.4       358.0       650.4       736.2   \n",
              "std    120.782035  131.213566  150.325647  216.200601   \n",
              "min         229.0       217.0       485.0       517.0   \n",
              "25%         274.0       262.0       555.0       588.0   \n",
              "50%         318.0       319.0       593.0       640.0   \n",
              "75%         469.0       487.0       807.0       957.0   \n",
              "max         502.0       505.0       812.0       979.0   \n",
              "\n",
              "       NarizEntupidoEscorrendo      Nausea  PerdaCheiroSabor      Tosse  \\\n",
              "count                      5.0         5.0               5.0        5.0   \n",
              "mean                     569.0       363.6             676.2      755.0   \n",
              "std                 122.539789  111.089153        179.698915  186.29949   \n",
              "min                      436.0       249.0             484.0      545.0   \n",
              "25%                      498.0       300.0             549.0      663.0   \n",
              "50%                      512.0       303.0             619.0      664.0   \n",
              "75%                      696.0       483.0             834.0      932.0   \n",
              "max                      703.0       483.0             895.0      971.0   \n",
              "\n",
              "       TotalLinhas  \n",
              "count          5.0  \n",
              "mean        9177.6  \n",
              "std     2791.84559  \n",
              "min         5327.0  \n",
              "25%         7639.0  \n",
              "50%         9519.0  \n",
              "75%        10951.0  \n",
              "max        12452.0  \n",
              "\n",
              "[8 rows x 14 columns]"
            ],
            "text/html": [
              "<div>\n",
              "<style scoped>\n",
              "    .dataframe tbody tr th:only-of-type {\n",
              "        vertical-align: middle;\n",
              "    }\n",
              "\n",
              "    .dataframe tbody tr th {\n",
              "        vertical-align: top;\n",
              "    }\n",
              "\n",
              "    .dataframe thead th {\n",
              "        text-align: right;\n",
              "    }\n",
              "</style>\n",
              "<table border=\"1\" class=\"dataframe\">\n",
              "  <thead>\n",
              "    <tr style=\"text-align: right;\">\n",
              "      <th></th>\n",
              "      <th>Diarreia</th>\n",
              "      <th>DificuldadeRespirar</th>\n",
              "      <th>DorCabeca</th>\n",
              "      <th>DorGarganta</th>\n",
              "      <th>DorMuscular</th>\n",
              "      <th>DorPeito</th>\n",
              "      <th>DorOlhos</th>\n",
              "      <th>Fadiga</th>\n",
              "      <th>Febre</th>\n",
              "      <th>NarizEntupidoEscorrendo</th>\n",
              "      <th>Nausea</th>\n",
              "      <th>PerdaCheiroSabor</th>\n",
              "      <th>Tosse</th>\n",
              "      <th>TotalLinhas</th>\n",
              "    </tr>\n",
              "  </thead>\n",
              "  <tbody>\n",
              "    <tr>\n",
              "      <th>count</th>\n",
              "      <td>5.0</td>\n",
              "      <td>5.0</td>\n",
              "      <td>5.0</td>\n",
              "      <td>5.0</td>\n",
              "      <td>5.0</td>\n",
              "      <td>5.0</td>\n",
              "      <td>5.0</td>\n",
              "      <td>5.0</td>\n",
              "      <td>5.0</td>\n",
              "      <td>5.0</td>\n",
              "      <td>5.0</td>\n",
              "      <td>5.0</td>\n",
              "      <td>5.0</td>\n",
              "      <td>5.0</td>\n",
              "    </tr>\n",
              "    <tr>\n",
              "      <th>mean</th>\n",
              "      <td>344.0</td>\n",
              "      <td>466.0</td>\n",
              "      <td>863.4</td>\n",
              "      <td>625.6</td>\n",
              "      <td>721.6</td>\n",
              "      <td>358.4</td>\n",
              "      <td>358.0</td>\n",
              "      <td>650.4</td>\n",
              "      <td>736.2</td>\n",
              "      <td>569.0</td>\n",
              "      <td>363.6</td>\n",
              "      <td>676.2</td>\n",
              "      <td>755.0</td>\n",
              "      <td>9177.6</td>\n",
              "    </tr>\n",
              "    <tr>\n",
              "      <th>std</th>\n",
              "      <td>118.600169</td>\n",
              "      <td>161.379986</td>\n",
              "      <td>186.327132</td>\n",
              "      <td>141.417114</td>\n",
              "      <td>175.512962</td>\n",
              "      <td>120.782035</td>\n",
              "      <td>131.213566</td>\n",
              "      <td>150.325647</td>\n",
              "      <td>216.200601</td>\n",
              "      <td>122.539789</td>\n",
              "      <td>111.089153</td>\n",
              "      <td>179.698915</td>\n",
              "      <td>186.29949</td>\n",
              "      <td>2791.84559</td>\n",
              "    </tr>\n",
              "    <tr>\n",
              "      <th>min</th>\n",
              "      <td>213.0</td>\n",
              "      <td>304.0</td>\n",
              "      <td>654.0</td>\n",
              "      <td>472.0</td>\n",
              "      <td>523.0</td>\n",
              "      <td>229.0</td>\n",
              "      <td>217.0</td>\n",
              "      <td>485.0</td>\n",
              "      <td>517.0</td>\n",
              "      <td>436.0</td>\n",
              "      <td>249.0</td>\n",
              "      <td>484.0</td>\n",
              "      <td>545.0</td>\n",
              "      <td>5327.0</td>\n",
              "    </tr>\n",
              "    <tr>\n",
              "      <th>25%</th>\n",
              "      <td>281.0</td>\n",
              "      <td>342.0</td>\n",
              "      <td>734.0</td>\n",
              "      <td>544.0</td>\n",
              "      <td>607.0</td>\n",
              "      <td>274.0</td>\n",
              "      <td>262.0</td>\n",
              "      <td>555.0</td>\n",
              "      <td>588.0</td>\n",
              "      <td>498.0</td>\n",
              "      <td>300.0</td>\n",
              "      <td>549.0</td>\n",
              "      <td>663.0</td>\n",
              "      <td>7639.0</td>\n",
              "    </tr>\n",
              "    <tr>\n",
              "      <th>50%</th>\n",
              "      <td>286.0</td>\n",
              "      <td>409.0</td>\n",
              "      <td>813.0</td>\n",
              "      <td>560.0</td>\n",
              "      <td>667.0</td>\n",
              "      <td>318.0</td>\n",
              "      <td>319.0</td>\n",
              "      <td>593.0</td>\n",
              "      <td>640.0</td>\n",
              "      <td>512.0</td>\n",
              "      <td>303.0</td>\n",
              "      <td>619.0</td>\n",
              "      <td>664.0</td>\n",
              "      <td>9519.0</td>\n",
              "    </tr>\n",
              "    <tr>\n",
              "      <th>75%</th>\n",
              "      <td>467.0</td>\n",
              "      <td>622.0</td>\n",
              "      <td>1058.0</td>\n",
              "      <td>766.0</td>\n",
              "      <td>902.0</td>\n",
              "      <td>469.0</td>\n",
              "      <td>487.0</td>\n",
              "      <td>807.0</td>\n",
              "      <td>957.0</td>\n",
              "      <td>696.0</td>\n",
              "      <td>483.0</td>\n",
              "      <td>834.0</td>\n",
              "      <td>932.0</td>\n",
              "      <td>10951.0</td>\n",
              "    </tr>\n",
              "    <tr>\n",
              "      <th>max</th>\n",
              "      <td>473.0</td>\n",
              "      <td>653.0</td>\n",
              "      <td>1058.0</td>\n",
              "      <td>786.0</td>\n",
              "      <td>909.0</td>\n",
              "      <td>502.0</td>\n",
              "      <td>505.0</td>\n",
              "      <td>812.0</td>\n",
              "      <td>979.0</td>\n",
              "      <td>703.0</td>\n",
              "      <td>483.0</td>\n",
              "      <td>895.0</td>\n",
              "      <td>971.0</td>\n",
              "      <td>12452.0</td>\n",
              "    </tr>\n",
              "  </tbody>\n",
              "</table>\n",
              "<p>8 rows × 14 columns</p>\n",
              "</div>[8 rows x 14 columns in total]"
            ]
          },
          "metadata": {},
          "execution_count": 4
        }
      ]
    },
    {
      "cell_type": "code",
      "source": [
        "# Convert BigQuery DataFrame to pandas DataFrame.\n",
        "pandas_df = bq_df.to_pandas()"
      ],
      "metadata": {
        "id": "fsAsHoWDZMpvh",
        "colab": {
          "base_uri": "https://localhost:8080/",
          "height": 34
        },
        "executionInfo": {
          "status": "ok",
          "timestamp": 1742434921996,
          "user_tz": 240,
          "elapsed": 2934,
          "user": {
            "displayName": "",
            "userId": ""
          }
        },
        "outputId": "e0e13060-b45f-417a-97b0-d6c5dd21f8a1"
      },
      "execution_count": 6,
      "outputs": [
        {
          "output_type": "display_data",
          "data": {
            "text/plain": [
              "<IPython.core.display.HTML object>"
            ],
            "text/html": [
              "Query job 2e53db8a-0693-4d3e-8539-d4c6d92a34c1 is DONE. 0 Bytes processed. <a target=\"_blank\" href=\"https://console.cloud.google.com/bigquery?project=postechanalyticsfase3&j=bq:southamerica-east1:2e53db8a-0693-4d3e-8539-d4c6d92a34c1&page=queryresults\">Open Job</a>"
            ]
          },
          "metadata": {}
        }
      ]
    },
    {
      "cell_type": "code",
      "source": [
        "import pandas as pd\n",
        "import matplotlib.pyplot as plt\n",
        "\n",
        "# Supondo que bq_df já esteja carregado\n",
        "# Removendo as colunas 'MesAno' e 'TotalLinhas' se existirem\n",
        "colunas_sintomas = bq_df.columns.difference(['MesAno', 'TotalLinhas'])\n",
        "\n",
        "# Somando os valores de cada coluna\n",
        "soma_sintomas = bq_df[colunas_sintomas].sum()\n",
        "\n",
        "# Ordenando do maior para o menor\n",
        "soma_sintomas = soma_sintomas.sort_values(ascending=False)\n",
        "\n",
        "# Criando a figura e os eixos\n",
        "fig, ax = plt.subplots(figsize=(12, 6))\n",
        "\n",
        "# Criando o gráfico de barras horizontais\n",
        "barras = ax.bar(soma_sintomas.index, soma_sintomas.values, color='lightblue')\n",
        "\n",
        "# Adicionando rótulos diretamente nas barras\n",
        "ax.bar_label(barras, fmt='%.1f', padding=5, fontsize=10, color='black')\n",
        "\n",
        "# Personalizando o gráfico\n",
        "ax.set_xlabel(\"Sintomas\")\n",
        "ax.set_ylabel(\"Pacientes (Qtd)\")\n",
        "ax.set_ylim(0,5000)\n",
        "ax.set_title(\"Pacientes por sintomas (Qtd)\")\n",
        "ax.grid(axis='x', linestyle='--', alpha=0.7)\n",
        "plt.xticks(rotation=75)\n",
        "\n",
        "# Exibindo o gráfico\n",
        "plt.show()"
      ],
      "metadata": {
        "colab": {
          "base_uri": "https://localhost:8080/",
          "height": 869
        },
        "id": "-EBnfqT2Nt8Q",
        "executionInfo": {
          "status": "ok",
          "timestamp": 1742435029104,
          "user_tz": 240,
          "elapsed": 15022,
          "user": {
            "displayName": "",
            "userId": ""
          }
        },
        "outputId": "29e2ab28-8cd5-4b90-c82c-099f35b6c3d1"
      },
      "execution_count": 9,
      "outputs": [
        {
          "output_type": "stream",
          "name": "stderr",
          "text": [
            "/usr/local/lib/python3.10/dist-packages/bigframes/core/blocks.py:142: NullIndexPreviewWarning: Creating object with Null Index. Null Index is a preview feature.\n",
            "  warnings.warn(msg, category=bfe.NullIndexPreviewWarning)\n"
          ]
        },
        {
          "output_type": "display_data",
          "data": {
            "text/plain": [
              "<IPython.core.display.HTML object>"
            ],
            "text/html": [
              "Query job e493e24b-a8f0-44ff-833b-79df913285b9 is DONE. 0 Bytes processed. <a target=\"_blank\" href=\"https://console.cloud.google.com/bigquery?project=postechanalyticsfase3&j=bq:southamerica-east1:e493e24b-a8f0-44ff-833b-79df913285b9&page=queryresults\">Open Job</a>"
            ]
          },
          "metadata": {}
        },
        {
          "output_type": "display_data",
          "data": {
            "text/plain": [
              "<IPython.core.display.HTML object>"
            ],
            "text/html": [
              "Query job ad4fc673-a543-4710-ae7d-dcb0f8f3470d is DONE. 0 Bytes processed. <a target=\"_blank\" href=\"https://console.cloud.google.com/bigquery?project=postechanalyticsfase3&j=bq:southamerica-east1:ad4fc673-a543-4710-ae7d-dcb0f8f3470d&page=queryresults\">Open Job</a>"
            ]
          },
          "metadata": {}
        },
        {
          "output_type": "display_data",
          "data": {
            "text/plain": [
              "<IPython.core.display.HTML object>"
            ],
            "text/html": [
              "Query job a750d2d7-7df9-4b46-a22d-945e99f08378 is DONE. 0 Bytes processed. <a target=\"_blank\" href=\"https://console.cloud.google.com/bigquery?project=postechanalyticsfase3&j=bq:southamerica-east1:a750d2d7-7df9-4b46-a22d-945e99f08378&page=queryresults\">Open Job</a>"
            ]
          },
          "metadata": {}
        },
        {
          "output_type": "display_data",
          "data": {
            "text/plain": [
              "<IPython.core.display.HTML object>"
            ],
            "text/html": [
              "Query job 9b3b3aec-cd13-4b54-8ab4-78662967285e is DONE. 0 Bytes processed. <a target=\"_blank\" href=\"https://console.cloud.google.com/bigquery?project=postechanalyticsfase3&j=bq:southamerica-east1:9b3b3aec-cd13-4b54-8ab4-78662967285e&page=queryresults\">Open Job</a>"
            ]
          },
          "metadata": {}
        },
        {
          "output_type": "display_data",
          "data": {
            "text/plain": [
              "<IPython.core.display.HTML object>"
            ],
            "text/html": [
              "Query job ea6ddde8-b336-40af-83d5-b34ea835d618 is DONE. 0 Bytes processed. <a target=\"_blank\" href=\"https://console.cloud.google.com/bigquery?project=postechanalyticsfase3&j=bq:southamerica-east1:ea6ddde8-b336-40af-83d5-b34ea835d618&page=queryresults\">Open Job</a>"
            ]
          },
          "metadata": {}
        },
        {
          "output_type": "display_data",
          "data": {
            "text/plain": [
              "<IPython.core.display.HTML object>"
            ],
            "text/html": [
              "Query job 8ffb1e63-3163-46b7-bad5-e3b54de1170c is DONE. 0 Bytes processed. <a target=\"_blank\" href=\"https://console.cloud.google.com/bigquery?project=postechanalyticsfase3&j=bq:southamerica-east1:8ffb1e63-3163-46b7-bad5-e3b54de1170c&page=queryresults\">Open Job</a>"
            ]
          },
          "metadata": {}
        },
        {
          "output_type": "display_data",
          "data": {
            "text/plain": [
              "<Figure size 1200x600 with 1 Axes>"
            ],
            "image/png": "[encoded data removed]"
          },
          "metadata": {}
        }
      ]
    },
    {
      "cell_type": "code",
      "source": [],
      "metadata": {
        "id": "DdYYrVePNt-7",
        "executionInfo": {
          "status": "ok",
          "timestamp": 1742434921997,
          "user_tz": 240,
          "elapsed": 3,
          "user": {
            "displayName": "",
            "userId": ""
          }
        }
      },
      "execution_count": 6,
      "outputs": []
    },
    {
      "cell_type": "code",
      "source": [],
      "metadata": {
        "id": "4SkJv053NuBP",
        "executionInfo": {
          "status": "ok",
          "timestamp": 1742434921997,
          "user_tz": 240,
          "elapsed": 2,
          "user": {
            "displayName": "",
            "userId": ""
          }
        }
      },
      "execution_count": 6,
      "outputs": []
    },
    {
      "cell_type": "code",
      "source": [],
      "metadata": {
        "id": "IM8agaQ3NuDs"
      },
      "execution_count": null,
      "outputs": []
    }
  ]
}