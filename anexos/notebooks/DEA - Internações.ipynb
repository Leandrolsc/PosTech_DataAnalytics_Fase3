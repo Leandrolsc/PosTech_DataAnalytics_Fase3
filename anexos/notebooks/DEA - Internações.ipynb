{
  "nbformat": 4,
  "nbformat_minor": 0,
  "metadata": {
    "colab": {
      "cell_execution_strategy": "setup",
      "provenance": [],
      "name": "DEA - Internações"
    },
    "kernelspec": {
      "name": "python3",
      "display_name": "Python 3"
    },
    "language_info": {
      "name": "python"
    }
  },
  "cells": [
    {
      "cell_type": "code",
      "source": [
        "# @title Setup\n",
        "from google.cloud import bigquery\n",
        "from google.colab import data_table\n",
        "import bigframes.pandas as bpd\n",
        "\n",
        "project = 'postechanalyticsfase3' # Project ID inserted based on the query results selected to explore\n",
        "location = 'southamerica-east1' # Location inserted based on the query results selected to explore\n",
        "client = bigquery.Client(project=project, location=location)\n",
        "data_table.enable_dataframe_formatter()"
      ],
      "metadata": {
        "id": "w6MmeBUBJ-9E",
        "cellView": "form",
        "executionInfo": {
          "status": "ok",
          "timestamp": 1742432968840,
          "user_tz": 240,
          "elapsed": 467,
          "user": {
            "displayName": "",
            "userId": ""
          }
        }
      },
      "execution_count": 34,
      "outputs": []
    },
    {
      "metadata": {
        "id": "pj42soltXW_H"
      },
      "cell_type": "markdown",
      "source": [
        "## Reference SQL syntax from the original job\n",
        "Use the ```jobs.query```\n",
        "[method](https://cloud.google.com/bigquery/docs/reference/rest/v2/jobs/query) to\n",
        "return the SQL syntax from the job. This can be copied from the output cell\n",
        "below to edit the query now or in the future. Alternatively, you can use\n",
        "[this link](https://console.cloud.google.com/bigquery?j=postechanalyticsfase3:southamerica-east1:bquxjob_4caafdbb_195abe735a1)\n",
        "back to BigQuery to edit the query within the BigQuery user interface."
      ]
    },
    {
      "metadata": {
        "id": "KxSqPfAeXW_K",
        "colab": {
          "base_uri": "https://localhost:8080/"
        },
        "executionInfo": {
          "status": "ok",
          "timestamp": 1742432969288,
          "user_tz": 240,
          "elapsed": 10,
          "user": {
            "displayName": "",
            "userId": ""
          }
        },
        "outputId": "8ab8d4be-2ef6-40a9-d892-59f7313663fa"
      },
      "cell_type": "code",
      "source": [
        "# Running this code will display the query used to generate your previous job\n",
        "\n",
        "job = client.get_job('bquxjob_4caafdbb_195abe735a1') # Job ID inserted based on the query results selected to explore\n",
        "print(job.query)"
      ],
      "outputs": [
        {
          "output_type": "stream",
          "name": "stdout",
          "text": [
            "SELECT '112020' as MesAno\r\n",
            "        ,COUNT(CASE B005 WHEN 1 THEN 1 ELSE null END) Internado\r\n",
            "        ,COUNT(CASE WHEN B005 in (2,3) THEN 2 ELSE null END) NaoInternado\r\n",
            "        ,COUNT(CASE WHEN NULLIF(B005,9) is not null THEN 1 ELSE null END) TotalPreenchido\r\n",
            "        ,COUNT(*) Total\r\n",
            "        ,(COUNT(CASE WHEN NULLIF(B005,9) is not null THEN 1 ELSE null END)/COUNT(*)) *100 as PercentualPreenchimento\r\n",
            "FROM `PNAD_COVID.PNAD_COVID_112020` \r\n",
            "UNION ALL\r\n",
            "SELECT '102020' as MesAno\r\n",
            "        ,COUNT(CASE B005 WHEN 1 THEN 1 ELSE null END) Internado\r\n",
            "        ,COUNT(CASE WHEN B005 in (2,3) THEN 2 ELSE null END) NaoInternado\r\n",
            "       ,COUNT(CASE WHEN NULLIF(B005,9) is not null THEN 1 ELSE null END) TotalPreenchido\r\n",
            "       ,COUNT(*) Total\r\n",
            "        ,(COUNT(CASE WHEN NULLIF(B005,9) is not null THEN 1 ELSE null END)/COUNT(*)) *100 as PercentualPreenchimento\r\n",
            "FROM `PNAD_COVID.PNAD_COVID_102020` \r\n",
            "UNION ALL\r\n",
            "SELECT '092020' as MesAno\r\n",
            "        ,COUNT(CASE B005 WHEN 1 THEN 1 ELSE null END) Internado\r\n",
            "        ,COUNT(CASE WHEN B005 in (2,3) THEN 2 ELSE null END) NaoInternado\r\n",
            "        ,COUNT(CASE WHEN NULLIF(B005,9) is not null THEN 1 ELSE null END) TotalPreenchido\r\n",
            "        ,COUNT(*) Total\r\n",
            "        ,(COUNT(CASE WHEN NULLIF(B005,9) is not null THEN 1 ELSE null END)/COUNT(*)) *100 as PercentualPreenchimento\r\n",
            "FROM `PNAD_COVID.PNAD_COVID_092020` \r\n",
            "UNION ALL\r\n",
            "SELECT '082020' as MesAno\r\n",
            "        ,COUNT(CASE B005 WHEN 1 THEN 1 ELSE null END) Internado\r\n",
            "        ,COUNT(CASE WHEN B005 in (2,3) THEN 2 ELSE null END) NaoInternado\r\n",
            "        ,COUNT(CASE WHEN NULLIF(B005,9) is not null THEN 1 ELSE null END) TotalPreenchido\r\n",
            "        ,COUNT(*) Total\r\n",
            "        ,(COUNT(CASE WHEN NULLIF(B005,9) is not null THEN 1 ELSE null END)/COUNT(*)) *100 as PercentualPreenchimento\r\n",
            "FROM `PNAD_COVID.PNAD_COVID_082020` \r\n",
            "UNION ALL\r\n",
            "SELECT '072020' as MesAno\r\n",
            "        ,COUNT(CASE B005 WHEN 1 THEN 1 ELSE null END) Internado\r\n",
            "        ,COUNT(CASE WHEN B005 in (2,3) THEN 2 ELSE null END) NaoInternado\r\n",
            "        ,COUNT(CASE WHEN NULLIF(B005,9) is not null THEN 1 ELSE null END) TotalPreenchido\r\n",
            "        ,COUNT(*) Total\r\n",
            "        ,(COUNT(CASE WHEN NULLIF(B005,9) is not null THEN 1 ELSE null END)/COUNT(*)) *100 as PercentualPreenchimento\r\n",
            "FROM `PNAD_COVID.PNAD_COVID_072020` \r\n",
            "UNION ALL\r\n",
            "SELECT '062020' as MesAno\r\n",
            "        ,COUNT(CASE B005 WHEN 1 THEN 1 ELSE null END) Internado\r\n",
            "        ,COUNT(CASE WHEN B005 in (2,3) THEN 2 ELSE null END) NaoInternado\r\n",
            "        ,COUNT(CASE WHEN NULLIF(B005,9) is not null THEN 1 ELSE null END) TotalPreenchido\r\n",
            "        ,COUNT(*) Total\r\n",
            "        ,(COUNT(CASE WHEN NULLIF(B005,9) is not null THEN 1 ELSE null END)/COUNT(*)) *100 as PercentualPreenchimento\r\n",
            "FROM `PNAD_COVID.PNAD_COVID_062020` \r\n",
            "UNION ALL\r\n",
            "SELECT '052020' as MesAno\r\n",
            "        ,COUNT(CASE B005 WHEN 1 THEN 1 ELSE null END) Internado\r\n",
            "        ,COUNT(CASE WHEN B005 in (2,3) THEN 2 ELSE null END) NaoInternado\r\n",
            "        ,COUNT(CASE WHEN NULLIF(B005,9) is not null THEN 1 ELSE null END) TotalPreenchido\r\n",
            "        ,COUNT(*) Total\r\n",
            "        ,(COUNT(CASE WHEN NULLIF(B005,9) is not null THEN 1 ELSE null END)/COUNT(*)) *100 as PercentualPreenchimento\r\n",
            "FROM `PNAD_COVID.PNAD_COVID_052020` \r\n",
            "ORDER BY 1\n"
          ]
        }
      ],
      "execution_count": 35
    },
    {
      "cell_type": "markdown",
      "metadata": {
        "id": "eY-wNOGO11ON"
      },
      "source": [
        "# Result set loaded from BigQuery job as a DataFrame\n",
        "Query results are referenced from the Job ID ran from BigQuery and the query\n",
        "does not need to be re-run to explore results. The ```to_dataframe```\n",
        "[method](https://googleapis.dev/python/bigquery/latest/generated/google.cloud.bigquery.job.QueryJob.html#google.cloud.bigquery.job.QueryJob.to_dataframe)\n",
        "downloads the results to a Pandas DataFrame by using the BigQuery Storage API. The read_gbq_table [method](https://cloud.google.com/python/docs/reference/bigframes/latest/bigframes.pandas#bigframes_pandas_read_gbq_function) turns a BigQuery table into the BigFrames DataFrame.\n",
        "\n",
        "To edit query syntax, you can do so from the BigQuery SQL editor or in the\n",
        "```Optional:``` sections below."
      ]
    },
    {
      "cell_type": "code",
      "execution_count": 36,
      "metadata": {
        "id": "bIw82qhuHWy0",
        "colab": {
          "base_uri": "https://localhost:8080/",
          "height": 389
        },
        "executionInfo": {
          "status": "ok",
          "timestamp": 1742432972273,
          "user_tz": 240,
          "elapsed": 2990,
          "user": {
            "displayName": "",
            "userId": ""
          }
        },
        "outputId": "d39c3ed3-5ab7-44fe-9fc9-7b184645dc7f"
      },
      "outputs": [
        {
          "output_type": "stream",
          "name": "stderr",
          "text": [
            "/usr/local/lib/python3.10/dist-packages/IPython/core/interactiveshell.py:3553: UserWarning: Reading cached table from 2025-03-20 00:48:59.552435+00:00 to avoid incompatibilies with previous reads of this table. To read the latest version, set `use_cache=False` or close the current session with Session.close() or bigframes.pandas.close_session().\n",
            "  exec(code_obj, self.user_global_ns, self.user_ns)\n"
          ]
        },
        {
          "output_type": "display_data",
          "data": {
            "text/plain": [
              "<IPython.core.display.HTML object>"
            ],
            "text/html": [
              "Query job d3143098-a1d7-48d2-833e-3142214f9ac5 is DONE. 0 Bytes processed. <a target=\"_blank\" href=\"https://console.cloud.google.com/bigquery?project=postechanalyticsfase3&j=bq:southamerica-east1:d3143098-a1d7-48d2-833e-3142214f9ac5&page=queryresults\">Open Job</a>"
            ]
          },
          "metadata": {}
        },
        {
          "output_type": "execute_result",
          "data": {
            "text/plain": [
              "   MesAno  Internado  NaoInternado  TotalPreenchido   Total  \\\n",
              "3  052020        200          1581             1781  349306   \n",
              "0  062020        227          1503             1730  381270   \n",
              "2  072020        265          2523             2788  384166   \n",
              "5  082020        253          2270             2523  386520   \n",
              "6  092020        199          1680             1879  387298   \n",
              "4  102020        182          1670             1852  380461   \n",
              "1  112020        198          1898             2096  381438   \n",
              "\n",
              "   PercentualPreenchimento  \n",
              "3                 0.509868  \n",
              "0                 0.453747  \n",
              "2                 0.725728  \n",
              "5                 0.652748  \n",
              "6                 0.485156  \n",
              "4                 0.486778  \n",
              "1                   0.5495  \n",
              "\n",
              "[7 rows x 6 columns]"
            ],
            "text/html": [
              "<div>\n",
              "<style scoped>\n",
              "    .dataframe tbody tr th:only-of-type {\n",
              "        vertical-align: middle;\n",
              "    }\n",
              "\n",
              "    .dataframe tbody tr th {\n",
              "        vertical-align: top;\n",
              "    }\n",
              "\n",
              "    .dataframe thead th {\n",
              "        text-align: right;\n",
              "    }\n",
              "</style>\n",
              "<table border=\"1\" class=\"dataframe\">\n",
              "  <thead>\n",
              "    <tr style=\"text-align: right;\">\n",
              "      <th></th>\n",
              "      <th>MesAno</th>\n",
              "      <th>Internado</th>\n",
              "      <th>NaoInternado</th>\n",
              "      <th>TotalPreenchido</th>\n",
              "      <th>Total</th>\n",
              "      <th>PercentualPreenchimento</th>\n",
              "    </tr>\n",
              "  </thead>\n",
              "  <tbody>\n",
              "    <tr>\n",
              "      <th>3</th>\n",
              "      <td>052020</td>\n",
              "      <td>200</td>\n",
              "      <td>1581</td>\n",
              "      <td>1781</td>\n",
              "      <td>349306</td>\n",
              "      <td>0.509868</td>\n",
              "    </tr>\n",
              "    <tr>\n",
              "      <th>0</th>\n",
              "      <td>062020</td>\n",
              "      <td>227</td>\n",
              "      <td>1503</td>\n",
              "      <td>1730</td>\n",
              "      <td>381270</td>\n",
              "      <td>0.453747</td>\n",
              "    </tr>\n",
              "    <tr>\n",
              "      <th>2</th>\n",
              "      <td>072020</td>\n",
              "      <td>265</td>\n",
              "      <td>2523</td>\n",
              "      <td>2788</td>\n",
              "      <td>384166</td>\n",
              "      <td>0.725728</td>\n",
              "    </tr>\n",
              "    <tr>\n",
              "      <th>5</th>\n",
              "      <td>082020</td>\n",
              "      <td>253</td>\n",
              "      <td>2270</td>\n",
              "      <td>2523</td>\n",
              "      <td>386520</td>\n",
              "      <td>0.652748</td>\n",
              "    </tr>\n",
              "    <tr>\n",
              "      <th>6</th>\n",
              "      <td>092020</td>\n",
              "      <td>199</td>\n",
              "      <td>1680</td>\n",
              "      <td>1879</td>\n",
              "      <td>387298</td>\n",
              "      <td>0.485156</td>\n",
              "    </tr>\n",
              "    <tr>\n",
              "      <th>4</th>\n",
              "      <td>102020</td>\n",
              "      <td>182</td>\n",
              "      <td>1670</td>\n",
              "      <td>1852</td>\n",
              "      <td>380461</td>\n",
              "      <td>0.486778</td>\n",
              "    </tr>\n",
              "    <tr>\n",
              "      <th>1</th>\n",
              "      <td>112020</td>\n",
              "      <td>198</td>\n",
              "      <td>1898</td>\n",
              "      <td>2096</td>\n",
              "      <td>381438</td>\n",
              "      <td>0.5495</td>\n",
              "    </tr>\n",
              "  </tbody>\n",
              "</table>\n",
              "<p>7 rows × 6 columns</p>\n",
              "</div>[7 rows x 6 columns in total]"
            ]
          },
          "metadata": {},
          "execution_count": 36
        }
      ],
      "source": [
        "# Running this code will read results from your previous job\n",
        "\n",
        "job = client.get_job('bquxjob_4caafdbb_195abe735a1') # Job ID inserted based on the query results selected to explore\n",
        "destination = job.destination\n",
        "\n",
        "# Load data from a BigQuery table using BigFrames DataFrames:\n",
        "bq_df = bpd.read_gbq(f\"{destination.project}.{destination.dataset_id}.{destination.table_id}\")\n",
        "bq_df = bq_df.sort_values(by='MesAno')\n",
        "bq_df"
      ]
    },
    {
      "cell_type": "markdown",
      "metadata": {
        "id": "84Ub57pbB6EN"
      },
      "source": [
        "## Show descriptive statistics using describe()\n",
        "Use the ```DataFrame.describe()```\n",
        "[method](https://cloud.google.com/python/docs/reference/bigframes/latest/bigframes.dataframe.DataFrame#bigframes_dataframe_DataFrame_describe)\n",
        "to generate descriptive statistics. Descriptive statistics include those that\n",
        "summarize the central tendency, dispersion and shape of a dataset’s\n",
        "distribution, excluding ```NaN``` values. You may also use other Python methods\n",
        "to interact with your data."
      ]
    },
    {
      "cell_type": "code",
      "source": [
        "# Generate descriptive statistics.\n",
        "bq_df.describe()"
      ],
      "metadata": {
        "id": "fsAsHoWDZMpv",
        "colab": {
          "base_uri": "https://localhost:8080/",
          "height": 364
        },
        "executionInfo": {
          "status": "ok",
          "timestamp": 1742432974585,
          "user_tz": 240,
          "elapsed": 2335,
          "user": {
            "displayName": "",
            "userId": ""
          }
        },
        "outputId": "639d8448-d4c6-4eaa-b877-66c659645af6"
      },
      "execution_count": 37,
      "outputs": [
        {
          "output_type": "display_data",
          "data": {
            "text/plain": [
              "<IPython.core.display.HTML object>"
            ],
            "text/html": [
              "Query job e872667f-9d38-4c34-ad56-e58a2d57f777 is DONE. 0 Bytes processed. <a target=\"_blank\" href=\"https://console.cloud.google.com/bigquery?project=postechanalyticsfase3&j=bq:southamerica-east1:e872667f-9d38-4c34-ad56-e58a2d57f777&page=queryresults\">Open Job</a>"
            ]
          },
          "metadata": {}
        },
        {
          "output_type": "execute_result",
          "data": {
            "text/plain": [
              "        Internado  NaoInternado  TotalPreenchido         Total  \\\n",
              "count         7.0           7.0              7.0           7.0   \n",
              "mean   217.714286        1875.0      2092.714286      378637.0   \n",
              "std     31.345995    383.259703       408.436741  13204.401274   \n",
              "min         182.0        1503.0           1730.0      349306.0   \n",
              "25%         198.0        1581.0           1781.0      380461.0   \n",
              "50%         200.0        1680.0           1879.0      381438.0   \n",
              "75%         253.0        2270.0           2523.0      386520.0   \n",
              "max         265.0        2523.0           2788.0      387298.0   \n",
              "\n",
              "       PercentualPreenchimento  \n",
              "count                      7.0  \n",
              "mean                  0.551932  \n",
              "std                   0.100406  \n",
              "min                   0.453747  \n",
              "25%                   0.485156  \n",
              "50%                   0.509868  \n",
              "75%                   0.652748  \n",
              "max                   0.725728  \n",
              "\n",
              "[8 rows x 5 columns]"
            ],
            "text/html": [
              "<div>\n",
              "<style scoped>\n",
              "    .dataframe tbody tr th:only-of-type {\n",
              "        vertical-align: middle;\n",
              "    }\n",
              "\n",
              "    .dataframe tbody tr th {\n",
              "        vertical-align: top;\n",
              "    }\n",
              "\n",
              "    .dataframe thead th {\n",
              "        text-align: right;\n",
              "    }\n",
              "</style>\n",
              "<table border=\"1\" class=\"dataframe\">\n",
              "  <thead>\n",
              "    <tr style=\"text-align: right;\">\n",
              "      <th></th>\n",
              "      <th>Internado</th>\n",
              "      <th>NaoInternado</th>\n",
              "      <th>TotalPreenchido</th>\n",
              "      <th>Total</th>\n",
              "      <th>PercentualPreenchimento</th>\n",
              "    </tr>\n",
              "  </thead>\n",
              "  <tbody>\n",
              "    <tr>\n",
              "      <th>count</th>\n",
              "      <td>7.0</td>\n",
              "      <td>7.0</td>\n",
              "      <td>7.0</td>\n",
              "      <td>7.0</td>\n",
              "      <td>7.0</td>\n",
              "    </tr>\n",
              "    <tr>\n",
              "      <th>mean</th>\n",
              "      <td>217.714286</td>\n",
              "      <td>1875.0</td>\n",
              "      <td>2092.714286</td>\n",
              "      <td>378637.0</td>\n",
              "      <td>0.551932</td>\n",
              "    </tr>\n",
              "    <tr>\n",
              "      <th>std</th>\n",
              "      <td>31.345995</td>\n",
              "      <td>383.259703</td>\n",
              "      <td>408.436741</td>\n",
              "      <td>13204.401274</td>\n",
              "      <td>0.100406</td>\n",
              "    </tr>\n",
              "    <tr>\n",
              "      <th>min</th>\n",
              "      <td>182.0</td>\n",
              "      <td>1503.0</td>\n",
              "      <td>1730.0</td>\n",
              "      <td>349306.0</td>\n",
              "      <td>0.453747</td>\n",
              "    </tr>\n",
              "    <tr>\n",
              "      <th>25%</th>\n",
              "      <td>198.0</td>\n",
              "      <td>1581.0</td>\n",
              "      <td>1781.0</td>\n",
              "      <td>380461.0</td>\n",
              "      <td>0.485156</td>\n",
              "    </tr>\n",
              "    <tr>\n",
              "      <th>50%</th>\n",
              "      <td>200.0</td>\n",
              "      <td>1680.0</td>\n",
              "      <td>1879.0</td>\n",
              "      <td>381438.0</td>\n",
              "      <td>0.509868</td>\n",
              "    </tr>\n",
              "    <tr>\n",
              "      <th>75%</th>\n",
              "      <td>253.0</td>\n",
              "      <td>2270.0</td>\n",
              "      <td>2523.0</td>\n",
              "      <td>386520.0</td>\n",
              "      <td>0.652748</td>\n",
              "    </tr>\n",
              "    <tr>\n",
              "      <th>max</th>\n",
              "      <td>265.0</td>\n",
              "      <td>2523.0</td>\n",
              "      <td>2788.0</td>\n",
              "      <td>387298.0</td>\n",
              "      <td>0.725728</td>\n",
              "    </tr>\n",
              "  </tbody>\n",
              "</table>\n",
              "<p>8 rows × 5 columns</p>\n",
              "</div>[8 rows x 5 columns in total]"
            ]
          },
          "metadata": {},
          "execution_count": 37
        }
      ]
    },
    {
      "cell_type": "code",
      "source": [
        "# Convert BigQuery DataFrame to pandas DataFrame.\n",
        "pandas_df = bq_df.to_pandas()\n"
      ],
      "metadata": {
        "id": "fsAsHoWDZMpvh",
        "executionInfo": {
          "status": "ok",
          "timestamp": 1742432977054,
          "user_tz": 240,
          "elapsed": 2477,
          "user": {
            "displayName": "",
            "userId": ""
          }
        },
        "colab": {
          "base_uri": "https://localhost:8080/",
          "height": 34
        },
        "outputId": "303f1006-d3d7-4a5f-8a55-219a9a493ecb"
      },
      "execution_count": 38,
      "outputs": [
        {
          "output_type": "display_data",
          "data": {
            "text/plain": [
              "<IPython.core.display.HTML object>"
            ],
            "text/html": [
              "Query job ad312e2e-4ea3-43a6-a9b0-133faf57429c is DONE. 0 Bytes processed. <a target=\"_blank\" href=\"https://console.cloud.google.com/bigquery?project=postechanalyticsfase3&j=bq:southamerica-east1:ad312e2e-4ea3-43a6-a9b0-133faf57429c&page=queryresults\">Open Job</a>"
            ]
          },
          "metadata": {}
        }
      ]
    },
    {
      "cell_type": "code",
      "source": [
        "import matplotlib.pyplot as plt\n",
        "\n",
        "# Configurar o tamanho do gráfico\n",
        "plt.figure(figsize=(12, 6))\n",
        "\n",
        "# Criar o gráfico de barras para a coluna \"total\" no eixo principal\n",
        "fig, ax1 = plt.subplots(figsize=(12, 6))  # Define o eixo principal\n",
        "barras1 = ax1.bar(bq_df['MesAno'], bq_df['Total'], color='skyblue', label='Entrevistados')\n",
        "ax1.set_xlabel('Periodo', fontsize=12)\n",
        "ax1.set_ylim(0,500000)\n",
        "ax1.set_ylabel('Entrevistados (Qtd)', fontsize=12)\n",
        "ax1.tick_params(axis='x', rotation=45)\n",
        "ax1.grid(axis='y', linestyle='--', alpha=0.7)\n",
        "ax1.bar_label(barras1, fmt='%.1f', padding=5, fontsize=10, color='black')\n",
        "\n",
        "\n",
        "# Criar o eixo secundário para as linhas\n",
        "ax2 = ax1.twinx()  # Define o eixo secundário\n",
        "linha1, = ax2.plot(bq_df['MesAno'], bq_df['TotalPreenchido'], color='green', marker='o', label='Respostas Preenchidas')\n",
        "for x, y in zip(bq_df['MesAno'], bq_df['TotalPreenchido']):\n",
        "    ax2.text(x, y, f'{y:.1f}', ha='left', va='bottom', fontsize=10, color='green')\n",
        "linha2, = ax2.plot(bq_df['MesAno'], bq_df['Internado'], color='red', marker='o', label='Internados')\n",
        "for x, y in zip(bq_df['MesAno'], bq_df['Internado']):\n",
        "    ax2.text(x, y, f'{y:.1f}', ha='left', va='bottom', fontsize=10, color='red')\n",
        "ax2.set_ylabel('Respostas (Qtd)', fontsize=12)\n",
        "ax2.legend()\n",
        "\n",
        "\n",
        "# Adicionar título e legenda\n",
        "plt.title('Quantidade de entrevistados pela quantidade de respostas (Para internações) e de internações', fontsize=14)\n",
        "fig.legend(loc='upper left', bbox_to_anchor=(0.08, 0.94), fontsize=12)  # Configuração para mostrar a legenda geral\n",
        "\n",
        "# Mostrar o gráfico\n",
        "plt.tight_layout()\n",
        "plt.show()"
      ],
      "metadata": {
        "id": "O3jolwyf-uVz",
        "executionInfo": {
          "status": "ok",
          "timestamp": 1742433021106,
          "user_tz": 240,
          "elapsed": 44057,
          "user": {
            "displayName": "",
            "userId": ""
          }
        },
        "colab": {
          "base_uri": "https://localhost:8080/",
          "height": 788
        },
        "outputId": "6a3314e4-499a-41b3-d4cb-a93cecf3e7b9"
      },
      "execution_count": 39,
      "outputs": [
        {
          "output_type": "display_data",
          "data": {
            "text/plain": [
              "<IPython.core.display.HTML object>"
            ],
            "text/html": [
              "Query job be673049-26a1-4fe7-b888-cff404ffce6d is DONE. 0 Bytes processed. <a target=\"_blank\" href=\"https://console.cloud.google.com/bigquery?project=postechanalyticsfase3&j=bq:southamerica-east1:be673049-26a1-4fe7-b888-cff404ffce6d&page=queryresults\">Open Job</a>"
            ]
          },
          "metadata": {}
        },
        {
          "output_type": "display_data",
          "data": {
            "text/plain": [
              "<IPython.core.display.HTML object>"
            ],
            "text/html": [
              "Query job 53f75e9e-a6c1-4019-bf6c-b009a36dca86 is DONE. 0 Bytes processed. <a target=\"_blank\" href=\"https://console.cloud.google.com/bigquery?project=postechanalyticsfase3&j=bq:southamerica-east1:53f75e9e-a6c1-4019-bf6c-b009a36dca86&page=queryresults\">Open Job</a>"
            ]
          },
          "metadata": {}
        },
        {
          "output_type": "display_data",
          "data": {
            "text/plain": [
              "<IPython.core.display.HTML object>"
            ],
            "text/html": [
              "Query job 40f6775c-6327-484e-a320-07546730ce1c is DONE. 0 Bytes processed. <a target=\"_blank\" href=\"https://console.cloud.google.com/bigquery?project=postechanalyticsfase3&j=bq:southamerica-east1:40f6775c-6327-484e-a320-07546730ce1c&page=queryresults\">Open Job</a>"
            ]
          },
          "metadata": {}
        },
        {
          "output_type": "display_data",
          "data": {
            "text/plain": [
              "<IPython.core.display.HTML object>"
            ],
            "text/html": [
              "Query job 5b233a70-15af-43c1-a6d0-f20db2358bd9 is DONE. 0 Bytes processed. <a target=\"_blank\" href=\"https://console.cloud.google.com/bigquery?project=postechanalyticsfase3&j=bq:southamerica-east1:5b233a70-15af-43c1-a6d0-f20db2358bd9&page=queryresults\">Open Job</a>"
            ]
          },
          "metadata": {}
        },
        {
          "output_type": "display_data",
          "data": {
            "text/plain": [
              "<IPython.core.display.HTML object>"
            ],
            "text/html": [
              "Query job 856d6d4a-5f5d-495a-af9b-c240fd6dcf46 is DONE. 0 Bytes processed. <a target=\"_blank\" href=\"https://console.cloud.google.com/bigquery?project=postechanalyticsfase3&j=bq:southamerica-east1:856d6d4a-5f5d-495a-af9b-c240fd6dcf46&page=queryresults\">Open Job</a>"
            ]
          },
          "metadata": {}
        },
        {
          "output_type": "display_data",
          "data": {
            "text/plain": [
              "<IPython.core.display.HTML object>"
            ],
            "text/html": [
              "Query job cb46a834-0d86-4e29-baf4-8e6e09ecb550 is DONE. 0 Bytes processed. <a target=\"_blank\" href=\"https://console.cloud.google.com/bigquery?project=postechanalyticsfase3&j=bq:southamerica-east1:cb46a834-0d86-4e29-baf4-8e6e09ecb550&page=queryresults\">Open Job</a>"
            ]
          },
          "metadata": {}
        },
        {
          "output_type": "display_data",
          "data": {
            "text/plain": [
              "<IPython.core.display.HTML object>"
            ],
            "text/html": [
              "Query job c8fd2982-ab31-4235-85e4-43c03b63603e is DONE. 0 Bytes processed. <a target=\"_blank\" href=\"https://console.cloud.google.com/bigquery?project=postechanalyticsfase3&j=bq:southamerica-east1:c8fd2982-ab31-4235-85e4-43c03b63603e&page=queryresults\">Open Job</a>"
            ]
          },
          "metadata": {}
        },
        {
          "output_type": "display_data",
          "data": {
            "text/plain": [
              "<IPython.core.display.HTML object>"
            ],
            "text/html": [
              "Query job 4544056e-4829-4544-8232-866aad56ad20 is DONE. 0 Bytes processed. <a target=\"_blank\" href=\"https://console.cloud.google.com/bigquery?project=postechanalyticsfase3&j=bq:southamerica-east1:4544056e-4829-4544-8232-866aad56ad20&page=queryresults\">Open Job</a>"
            ]
          },
          "metadata": {}
        },
        {
          "output_type": "display_data",
          "data": {
            "text/plain": [
              "<IPython.core.display.HTML object>"
            ],
            "text/html": [
              "Query job 67211dc9-e70c-4535-9504-241dcf877fae is DONE. 0 Bytes processed. <a target=\"_blank\" href=\"https://console.cloud.google.com/bigquery?project=postechanalyticsfase3&j=bq:southamerica-east1:67211dc9-e70c-4535-9504-241dcf877fae&page=queryresults\">Open Job</a>"
            ]
          },
          "metadata": {}
        },
        {
          "output_type": "display_data",
          "data": {
            "text/plain": [
              "<IPython.core.display.HTML object>"
            ],
            "text/html": [
              "Query job bee1b97e-2d96-4121-95d2-d99180863add is DONE. 0 Bytes processed. <a target=\"_blank\" href=\"https://console.cloud.google.com/bigquery?project=postechanalyticsfase3&j=bq:southamerica-east1:bee1b97e-2d96-4121-95d2-d99180863add&page=queryresults\">Open Job</a>"
            ]
          },
          "metadata": {}
        },
        {
          "output_type": "display_data",
          "data": {
            "text/plain": [
              "<IPython.core.display.HTML object>"
            ],
            "text/html": [
              "Query job e8fac15b-0c2a-4413-8d80-ccbf5a6293ea is DONE. 0 Bytes processed. <a target=\"_blank\" href=\"https://console.cloud.google.com/bigquery?project=postechanalyticsfase3&j=bq:southamerica-east1:e8fac15b-0c2a-4413-8d80-ccbf5a6293ea&page=queryresults\">Open Job</a>"
            ]
          },
          "metadata": {}
        },
        {
          "output_type": "display_data",
          "data": {
            "text/plain": [
              "<IPython.core.display.HTML object>"
            ],
            "text/html": [
              "Query job 8357aef0-bcc0-43a0-8ef2-bdadb153f941 is DONE. 0 Bytes processed. <a target=\"_blank\" href=\"https://console.cloud.google.com/bigquery?project=postechanalyticsfase3&j=bq:southamerica-east1:8357aef0-bcc0-43a0-8ef2-bdadb153f941&page=queryresults\">Open Job</a>"
            ]
          },
          "metadata": {}
        },
        {
          "output_type": "display_data",
          "data": {
            "text/plain": [
              "<IPython.core.display.HTML object>"
            ],
            "text/html": [
              "Query job 3f43cc3a-1044-4da1-8f42-062c89b1a8fd is DONE. 0 Bytes processed. <a target=\"_blank\" href=\"https://console.cloud.google.com/bigquery?project=postechanalyticsfase3&j=bq:southamerica-east1:3f43cc3a-1044-4da1-8f42-062c89b1a8fd&page=queryresults\">Open Job</a>"
            ]
          },
          "metadata": {}
        },
        {
          "output_type": "display_data",
          "data": {
            "text/plain": [
              "<IPython.core.display.HTML object>"
            ],
            "text/html": [
              "Query job 4e0dcec4-b0bf-457b-bfd7-de603058fcbb is DONE. 0 Bytes processed. <a target=\"_blank\" href=\"https://console.cloud.google.com/bigquery?project=postechanalyticsfase3&j=bq:southamerica-east1:4e0dcec4-b0bf-457b-bfd7-de603058fcbb&page=queryresults\">Open Job</a>"
            ]
          },
          "metadata": {}
        },
        {
          "output_type": "display_data",
          "data": {
            "text/plain": [
              "<IPython.core.display.HTML object>"
            ],
            "text/html": [
              "Query job a7ac7b02-2d10-4940-85e5-cd96fbd3673a is DONE. 0 Bytes processed. <a target=\"_blank\" href=\"https://console.cloud.google.com/bigquery?project=postechanalyticsfase3&j=bq:southamerica-east1:a7ac7b02-2d10-4940-85e5-cd96fbd3673a&page=queryresults\">Open Job</a>"
            ]
          },
          "metadata": {}
        },
        {
          "output_type": "display_data",
          "data": {
            "text/plain": [
              "<Figure size 1200x600 with 0 Axes>"
            ]
          },
          "metadata": {}
        },
        {
          "output_type": "display_data",
          "data": {
            "text/plain": [
              "<Figure size 1200x600 with 2 Axes>"
            ],
            "image/png": "[encoded data removed]"
          },
          "metadata": {}
        }
      ]
    },
    {
      "cell_type": "code",
      "source": [],
      "metadata": {
        "id": "mzc5nUXTB2mz",
        "executionInfo": {
          "status": "ok",
          "timestamp": 1742433021106,
          "user_tz": 240,
          "elapsed": 27,
          "user": {
            "displayName": "",
            "userId": ""
          }
        }
      },
      "execution_count": 39,
      "outputs": []
    }
  ]
}