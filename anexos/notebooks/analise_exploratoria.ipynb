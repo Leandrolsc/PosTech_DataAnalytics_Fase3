{
 "cells": [
  {
   "cell_type": "markdown",
   "metadata": {},
   "source": [
    "# Primeira etapa:\n",
    "Visualizar como os microdados estão distribuidos, foi observado que existem 7 arquivos referente aos dados de maio de 2020 a novembro de 2020. Dessa forma foram distribuidos dicionários diferentes, essa primeira etapa tem como objetivo analisar os dicionários para saber a diferença entre eles antes de começar a analise dos dados."
   ]
  },
  {
   "cell_type": "code",
   "execution_count": 1,
   "metadata": {},
   "outputs": [],
   "source": [
    "import pandas as pd"
   ]
  },
  {
   "cell_type": "code",
   "execution_count": 11,
   "metadata": {},
   "outputs": [],
   "source": [
    "dicionario_052020 = pd.read_csv(r'files\\dicionarios\\dicionarios(052020).csv',encoding='latin1',sep=';')\n",
    "dicionario_062020 = pd.read_csv(r'files\\dicionarios\\dicionarios(062020).csv',encoding='latin1',sep=';')\n",
    "dicionario_072020 = pd.read_csv(r'files\\dicionarios\\dicionarios(072020).csv',encoding='latin1',sep=';')\n",
    "dicionario_082020 = pd.read_csv(r'files\\dicionarios\\dicionarios(082020).csv',encoding='latin1',sep=';')\n",
    "dicionario_092020 = pd.read_csv(r'files\\dicionarios\\dicionarios(092020).csv',encoding='latin1',sep=';')\n",
    "dicionario_102020 = pd.read_csv(r'files\\dicionarios\\dicionarios(102020).csv',encoding='latin1',sep=';')\n",
    "dicionario_112020 = pd.read_csv(r'files\\dicionarios\\dicionarios(112020).csv',encoding='latin1',sep=';')"
   ]
  },
  {
   "cell_type": "code",
   "execution_count": 19,
   "metadata": {},
   "outputs": [],
   "source": [
    "all_dictionaries = pd.concat([\n",
    "    dicionario_052020[['codigo', 'descricao']],\n",
    "    dicionario_062020[['codigo', 'descricao']],\n",
    "    dicionario_072020[['codigo', 'descricao']],\n",
    "    dicionario_082020[['codigo', 'descricao']],\n",
    "    dicionario_092020[['codigo', 'descricao']],\n",
    "    dicionario_102020[['codigo', 'descricao']],\n",
    "    dicionario_112020[['codigo', 'descricao']]\n",
    "], axis=0).drop_duplicates().reset_index(drop=True)\n"
   ]
  },
  {
   "cell_type": "code",
   "execution_count": 20,
   "metadata": {},
   "outputs": [],
   "source": [
    "presence_df = pd.DataFrame({\n",
    "    'codigo': all_dictionaries['codigo'],\n",
    "    'descricao': all_dictionaries['descricao'],\n",
    "    '052020': all_dictionaries['codigo'].isin(dicionario_052020['codigo']),\n",
    "    '062020': all_dictionaries['codigo'].isin(dicionario_062020['codigo']),\n",
    "    '072020': all_dictionaries['codigo'].isin(dicionario_072020['codigo']),\n",
    "    '082020': all_dictionaries['codigo'].isin(dicionario_082020['codigo']),\n",
    "    '092020': all_dictionaries['codigo'].isin(dicionario_092020['codigo']),\n",
    "    '102020': all_dictionaries['codigo'].isin(dicionario_102020['codigo']),\n",
    "    '112020': all_dictionaries['codigo'].isin(dicionario_112020['codigo'])\n",
    "})\n"
   ]
  },
  {
   "cell_type": "code",
   "execution_count": 21,
   "metadata": {},
   "outputs": [
    {
     "name": "stdout",
     "output_type": "stream",
     "text": [
      "      codigo                                          descricao  052020  \\\n",
      "0         UF                               Unidade da Federação    True   \n",
      "1    CAPITAL                                            Capital    True   \n",
      "2    RM_RIDE  Região Metropolitana e Região Administrativa I...    True   \n",
      "3      V1008                     Número de seleção do domicílio    True   \n",
      "4      V1012                                      Semana no mês    True   \n",
      "..       ...                                                ...     ...   \n",
      "142   F002A4  No seu domicílio há os seguintes itens básicos...   False   \n",
      "143   F002A5  No seu domicílio há os seguintes itens básicos...   False   \n",
      "144    A006A  A escola / escola ou faculdade que frequenta é...   False   \n",
      "145    A006B                 Você está tendo aulas presenciais?   False   \n",
      "146    A007A  Por que não realizou as atividades disponibili...   False   \n",
      "\n",
      "     062020  072020  082020  092020  102020  112020  \n",
      "0      True    True    True    True    True    True  \n",
      "1      True    True    True    True    True    True  \n",
      "2      True    True    True    True    True    True  \n",
      "3      True    True    True    True    True    True  \n",
      "4      True    True    True    True    True    True  \n",
      "..      ...     ...     ...     ...     ...     ...  \n",
      "142   False    True    True    True    True    True  \n",
      "143   False    True    True    True    True    True  \n",
      "144   False   False   False   False   False    True  \n",
      "145   False   False   False   False   False    True  \n",
      "146   False   False   False   False   False    True  \n",
      "\n",
      "[147 rows x 9 columns]\n"
     ]
    }
   ],
   "source": [
    "print(presence_df)"
   ]
  },
  {
   "cell_type": "code",
   "execution_count": 22,
   "metadata": {},
   "outputs": [
    {
     "name": "stdout",
     "output_type": "stream",
     "text": [
      "052020    113\n",
      "062020    113\n",
      "072020    144\n",
      "082020    144\n",
      "092020    144\n",
      "102020    144\n",
      "112020    147\n",
      "dtype: int64\n"
     ]
    }
   ],
   "source": [
    "aggregation = presence_df[['052020', '062020', '072020', '082020', '092020', '102020', '112020']].sum()\n",
    "print(aggregation)\n"
   ]
  },
  {
   "cell_type": "code",
   "execution_count": 28,
   "metadata": {},
   "outputs": [
    {
     "name": "stdout",
     "output_type": "stream",
     "text": [
      "Códigos exclusivos de 052020:\n",
      "Empty DataFrame\n",
      "Columns: [codigo, descricao, 052020, 062020, 072020, 082020, 092020, 102020, 112020]\n",
      "Index: []\n",
      "\n",
      "Códigos exclusivos de 062020:\n",
      "Empty DataFrame\n",
      "Columns: [codigo, descricao, 052020, 062020, 072020, 082020, 092020, 102020, 112020]\n",
      "Index: []\n",
      "\n",
      "Códigos exclusivos de 072020:\n",
      "Empty DataFrame\n",
      "Columns: [codigo, descricao, 052020, 062020, 072020, 082020, 092020, 102020, 112020]\n",
      "Index: []\n"
     ]
    }
   ],
   "source": [
    "# Função para filtrar códigos exclusivos de um dataset\n",
    "def filter_unique_codes(df, target_col, other_cols):\n",
    "    return df[(df[target_col]) & ~(df[other_cols].any(axis=1))]\n",
    "\n",
    "# Filtrar códigos exclusivos de cada dataset\n",
    "only_in_052020 = filter_unique_codes(presence_df, '052020', ['062020', '072020', '082020', '092020', '102020', '112020'])\n",
    "only_in_062020 = filter_unique_codes(presence_df, '062020', ['052020', '072020', '082020', '092020', '102020', '112020'])\n",
    "only_in_072020 = filter_unique_codes(presence_df, '072020', ['052020', '062020', '082020', '092020', '102020', '112020'])\n",
    "only_in_082020 = filter_unique_codes(presence_df, '082020', ['052020', '062020', '072020', '092020', '102020', '112020'])\n",
    "only_in_092020 = filter_unique_codes(presence_df, '092020', ['052020', '062020', '072020', '082020', '102020', '112020'])\n",
    "only_in_102020 = filter_unique_codes(presence_df, '102020', ['052020', '062020', '072020', '082020', '092020', '112020'])\n",
    "only_in_112020 = filter_unique_codes(presence_df, '112020', ['052020', '062020', '072020', '082020', '092020', '102020'])\n",
    "\n",
    "# Exibir os DataFrames resultantes\n",
    "print(\"Códigos exclusivos de 052020:\")\n",
    "print(only_in_052020)\n",
    "print(\"\\nCódigos exclusivos de 062020:\")\n",
    "print(only_in_062020)\n",
    "print(\"\\nCódigos exclusivos de 072020:\")\n",
    "print(only_in_072020)\n"
   ]
  },
  {
   "cell_type": "code",
   "execution_count": 27,
   "metadata": {},
   "outputs": [
    {
     "name": "stdout",
     "output_type": "stream",
     "text": [
      "\n",
      "Códigos exclusivos de 082020:\n",
      "Empty DataFrame\n",
      "Columns: [codigo, descricao, 052020, 062020, 072020, 082020, 092020, 102020, 112020]\n",
      "Index: []\n",
      "\n",
      "Códigos exclusivos de 092020:\n",
      "Empty DataFrame\n",
      "Columns: [codigo, descricao, 052020, 062020, 072020, 082020, 092020, 102020, 112020]\n",
      "Index: []\n",
      "\n",
      "Códigos exclusivos de 102020:\n",
      "Empty DataFrame\n",
      "Columns: [codigo, descricao, 052020, 062020, 072020, 082020, 092020, 102020, 112020]\n",
      "Index: []\n",
      "\n",
      "Códigos exclusivos de 112020:\n",
      "    codigo                                          descricao  052020  062020  \\\n",
      "144  A006A  A escola / escola ou faculdade que frequenta é...   False   False   \n",
      "145  A006B                 Você está tendo aulas presenciais?   False   False   \n",
      "146  A007A  Por que não realizou as atividades disponibili...   False   False   \n",
      "\n",
      "     072020  082020  092020  102020  112020  \n",
      "144   False   False   False   False    True  \n",
      "145   False   False   False   False    True  \n",
      "146   False   False   False   False    True  \n"
     ]
    }
   ],
   "source": [
    "print(\"\\nCódigos exclusivos de 082020:\")\n",
    "print(only_in_082020)\n",
    "print(\"\\nCódigos exclusivos de 092020:\")\n",
    "print(only_in_092020)\n",
    "print(\"\\nCódigos exclusivos de 102020:\")\n",
    "print(only_in_102020)\n",
    "print(\"\\nCódigos exclusivos de 112020:\")\n",
    "print(only_in_112020)"
   ]
  },
  {
   "cell_type": "markdown",
   "metadata": {},
   "source": [
    "# Segunda Etapa:\n",
    "\n",
    "Ver quantos dados respondidos tem em cada coluna por dataset"
   ]
  },
  {
   "cell_type": "code",
   "execution_count": null,
   "metadata": {},
   "outputs": [],
   "source": [
    "import os"
   ]
  },
  {
   "cell_type": "code",
   "execution_count": null,
   "metadata": {},
   "outputs": [
    {
     "name": "stdout",
     "output_type": "stream",
     "text": [
      "Lendo C:\\Users\\leand\\github_projects\\PosTech_FIAP\\Fase_3\\files\\microdados\\PNAD_COVID_052020.parquet...\n",
      "Lendo C:\\Users\\leand\\github_projects\\PosTech_FIAP\\Fase_3\\files\\microdados\\PNAD_COVID_062020.parquet...\n",
      "Lendo C:\\Users\\leand\\github_projects\\PosTech_FIAP\\Fase_3\\files\\microdados\\PNAD_COVID_072020.parquet...\n",
      "Lendo C:\\Users\\leand\\github_projects\\PosTech_FIAP\\Fase_3\\files\\microdados\\PNAD_COVID_082020.parquet...\n",
      "Lendo C:\\Users\\leand\\github_projects\\PosTech_FIAP\\Fase_3\\files\\microdados\\PNAD_COVID_092020.parquet...\n",
      "Lendo C:\\Users\\leand\\github_projects\\PosTech_FIAP\\Fase_3\\files\\microdados\\PNAD_COVID_102020.parquet...\n",
      "Lendo C:\\Users\\leand\\github_projects\\PosTech_FIAP\\Fase_3\\files\\microdados\\PNAD_COVID_112020.parquet...\n",
      "        PNAD_COVID_052020.parquet  PNAD_COVID_062020.parquet  \\\n",
      "A001                       349306                     381270   \n",
      "A001A                      349306                     381270   \n",
      "A001B1                     349306                     381270   \n",
      "A001B2                     349306                     381270   \n",
      "A001B3                     349306                     381270   \n",
      "...                           ...                        ...   \n",
      "V1023                      349306                     381270   \n",
      "V1030                      349306                     381270   \n",
      "V1031                      349306                     381270   \n",
      "V1032                      349306                     381270   \n",
      "posest                     349306                     381270   \n",
      "\n",
      "        PNAD_COVID_072020.parquet  PNAD_COVID_082020.parquet  \\\n",
      "A001                       384166                     386520   \n",
      "A001A                      384166                     386520   \n",
      "A001B1                     384166                     386520   \n",
      "A001B2                     384166                     386520   \n",
      "A001B3                     384166                     386520   \n",
      "...                           ...                        ...   \n",
      "V1023                      384166                     386520   \n",
      "V1030                      384166                     386520   \n",
      "V1031                      384166                     386520   \n",
      "V1032                      384166                     386520   \n",
      "posest                     384166                     386520   \n",
      "\n",
      "        PNAD_COVID_092020.parquet  PNAD_COVID_102020.parquet  \\\n",
      "A001                       387298                     380461   \n",
      "A001A                      387298                     380461   \n",
      "A001B1                     387298                     380461   \n",
      "A001B2                     387298                     380461   \n",
      "A001B3                     387298                     380461   \n",
      "...                           ...                        ...   \n",
      "V1023                      387298                     380461   \n",
      "V1030                      387298                     380461   \n",
      "V1031                      387298                     380461   \n",
      "V1032                      387298                     380461   \n",
      "posest                     387298                     380461   \n",
      "\n",
      "        PNAD_COVID_112020.parquet  \n",
      "A001                       381438  \n",
      "A001A                      381438  \n",
      "A001B1                     381438  \n",
      "A001B2                     381438  \n",
      "A001B3                     381438  \n",
      "...                           ...  \n",
      "V1023                      381438  \n",
      "V1030                      381438  \n",
      "V1031                      381438  \n",
      "V1032                      381438  \n",
      "posest                     381438  \n",
      "\n",
      "[148 rows x 7 columns]\n"
     ]
    }
   ],
   "source": [
    "# Diretório dos arquivos Parquet\n",
    "input_dir = r'files\\microdados'\n",
    "\n",
    "# Listar todos os arquivos Parquet no diretório de entrada\n",
    "parquet_files = [f for f in os.listdir(input_dir) if f.endswith('.parquet')]\n",
    "\n",
    "# Função para contar valores não nulos em cada coluna de um DataFrame\n",
    "def count_non_nulls(df):\n",
    "    return df.count()\n",
    "\n",
    "# Dicionário para armazenar os resultados\n",
    "results = {}\n",
    "\n",
    "# Processar cada arquivo Parquet\n",
    "for parquet_file in parquet_files:\n",
    "    # Caminho completo do arquivo Parquet\n",
    "    parquet_path = os.path.join(input_dir, parquet_file)\n",
    "    print(f'Lendo {parquet_path}...')\n",
    "    # Ler o arquivo Parquet\n",
    "    df = pd.read_parquet(parquet_path)\n",
    "    \n",
    "    # Contar valores não nulos em cada coluna\n",
    "    counts = count_non_nulls(df)\n",
    "    \n",
    "    # Armazenar o resultado no dicionário\n",
    "    results[parquet_file] = counts\n",
    "\n",
    "# Criar um DataFrame com os resultados\n",
    "count_df = pd.DataFrame(results).fillna(0).astype(int)\n",
    "\n",
    "# Exibir o DataFrame resultante\n",
    "print(count_df)"
   ]
  }
 ],
 "metadata": {
  "kernelspec": {
   "display_name": "Python 3",
   "language": "python",
   "name": "python3"
  },
  "language_info": {
   "codemirror_mode": {
    "name": "ipython",
    "version": 3
   },
   "file_extension": ".py",
   "mimetype": "text/x-python",
   "name": "python",
   "nbconvert_exporter": "python",
   "pygments_lexer": "ipython3",
   "version": "3.11.9"
  }
 },
 "nbformat": 4,
 "nbformat_minor": 2
}
