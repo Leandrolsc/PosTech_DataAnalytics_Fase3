{
  "nbformat": 4,
  "nbformat_minor": 0,
  "metadata": {
    "colab": {
      "cell_execution_strategy": "setup",
      "provenance": [],
      "name": "DEA - Empréstimos"
    },
    "kernelspec": {
      "name": "python3",
      "display_name": "Python 3"
    },
    "language_info": {
      "name": "python"
    }
  },
  "cells": [
    {
      "cell_type": "code",
      "source": [
        "# @title Setup\n",
        "from google.cloud import bigquery\n",
        "from google.colab import data_table\n",
        "import bigframes.pandas as bpd\n",
        "\n",
        "project = 'postechanalyticsfase3' # Project ID inserted based on the query results selected to explore\n",
        "location = 'southamerica-east1' # Location inserted based on the query results selected to explore\n",
        "client = bigquery.Client(project=project, location=location)\n",
        "data_table.enable_dataframe_formatter()"
      ],
      "metadata": {
        "id": "w6MmeBUBJ-9E",
        "executionInfo": {
          "status": "ok",
          "timestamp": 1742433695348,
          "user_tz": 240,
          "elapsed": 3,
          "user": {
            "displayName": "",
            "userId": ""
          }
        }
      },
      "execution_count": 20,
      "outputs": []
    },
    {
      "metadata": {
        "id": "pj42soltXW_H"
      },
      "cell_type": "markdown",
      "source": [
        "## Reference SQL syntax from the original job\n",
        "Use the ```jobs.query```\n",
        "[method](https://cloud.google.com/bigquery/docs/reference/rest/v2/jobs/query) to\n",
        "return the SQL syntax from the job. This can be copied from the output cell\n",
        "below to edit the query now or in the future. Alternatively, you can use\n",
        "[this link](https://console.cloud.google.com/bigquery?j=postechanalyticsfase3:southamerica-east1:bquxjob_43629818_195ac151f4c)\n",
        "back to BigQuery to edit the query within the BigQuery user interface."
      ]
    },
    {
      "metadata": {
        "id": "KxSqPfAeXW_K",
        "colab": {
          "base_uri": "https://localhost:8080/"
        },
        "executionInfo": {
          "status": "ok",
          "timestamp": 1742433699714,
          "user_tz": 240,
          "elapsed": 2,
          "user": {
            "displayName": "",
            "userId": ""
          }
        },
        "outputId": "ded0defd-4d36-45a8-a3f0-f010a97d9962"
      },
      "cell_type": "code",
      "source": [
        "# Running this code will display the query used to generate your previous job\n",
        "\n",
        "job = client.get_job('bquxjob_2ccf0864_195b1216d0c') # Job ID inserted based on the query results selected to explore\n",
        "print(job.query)"
      ],
      "outputs": [
        {
          "output_type": "stream",
          "name": "stdout",
          "text": [
            "SELECT '112020' as MesAno\r\n",
            "        ,COUNT(CASE WHEN B005 = 1 THEN (CASE E001 WHEN 1 THEN 1 ELSE null END) ELSE NULL END) Emprestimo\r\n",
            "        ,COUNT(CASE WHEN B005 = 1 THEN (CASE E001 WHEN 2 THEN 2 ELSE null END) ELSE NULL END) Solicitou\r\n",
            "        ,COUNT(CASE WHEN B005 = 1 THEN (CASE E001 WHEN 3 THEN 3 ELSE null END) ELSE NULL END) NaoEmprestimo\r\n",
            "        ,COUNT(CASE WHEN B005 = 1 THEN 1 END) Total\r\n",
            "        ,(COUNT(CASE WHEN B005 = 1 THEN (CASE E001 WHEN 1 THEN 1 ELSE null END) ELSE NULL END) / COUNT(CASE WHEN B005 = 1 THEN 1 END)) *100 as PercentualEmprestimoParaSolicitantes\r\n",
            "        ,COUNT(*) QtdTotalRespondentes\r\n",
            "FROM `PNAD_COVID.PNAD_COVID_112020` \r\n",
            "UNION ALL\r\n",
            "SELECT '102020' as MesAno\r\n",
            "        ,COUNT(CASE WHEN B005 = 1 THEN (CASE E001 WHEN 1 THEN 1 ELSE null END) ELSE NULL END)  Emprestimo\r\n",
            "        ,COUNT(CASE WHEN B005 = 1 THEN (CASE E001 WHEN 2 THEN 2 ELSE null END) ELSE NULL END) Solicitou\r\n",
            "        ,COUNT(CASE WHEN B005 = 1 THEN (CASE E001 WHEN 3 THEN 3 ELSE null END) ELSE NULL END) NaoEmprestimo\r\n",
            "        ,COUNT(CASE WHEN B005 = 1 THEN 1 END) Total\r\n",
            "        ,(COUNT(CASE WHEN B005 = 1 THEN (CASE E001 WHEN 1 THEN 1 ELSE null END) ELSE NULL END) / COUNT(CASE WHEN B005 = 1 THEN 1 END)) *100 as PercentualEmprestimoParaSolicitantes\r\n",
            "        ,COUNT(*) QtdTotalRespondentes\r\n",
            "FROM `PNAD_COVID.PNAD_COVID_102020` \r\n",
            "UNION ALL\r\n",
            "SELECT '092020' as MesAno\r\n",
            "        ,COUNT(CASE WHEN B005 = 1 THEN (CASE E001 WHEN 1 THEN 1 ELSE null END) ELSE NULL END)  Emprestimo\r\n",
            "        ,COUNT(CASE WHEN B005 = 1 THEN (CASE E001 WHEN 2 THEN 2 ELSE null END) ELSE NULL END) Solicitou\r\n",
            "        ,COUNT(CASE WHEN B005 = 1 THEN (CASE E001 WHEN 3 THEN 3 ELSE null END) ELSE NULL END) NaoEmprestimo\r\n",
            "        ,COUNT(CASE WHEN B005 = 1 THEN 1 END) Total\r\n",
            "        ,(COUNT(CASE WHEN B005 = 1 THEN (CASE E001 WHEN 1 THEN 1 ELSE null END) ELSE NULL END) / COUNT(CASE WHEN B005 = 1 THEN 1 END)) *100 as PercentualEmprestimoParaSolicitantes\r\n",
            "        ,COUNT(*) QtdTotalRespondentes\r\n",
            "FROM `PNAD_COVID.PNAD_COVID_092020` \r\n",
            "UNION ALL\r\n",
            "SELECT '082020' as MesAno\r\n",
            "        ,COUNT(CASE WHEN B005 = 1 THEN (CASE E001 WHEN 1 THEN 1 ELSE null END) ELSE NULL END)  Emprestimo\r\n",
            "        ,COUNT(CASE WHEN B005 = 1 THEN (CASE E001 WHEN 2 THEN 2 ELSE null END) ELSE NULL END) Solicitou\r\n",
            "        ,COUNT(CASE WHEN B005 = 1 THEN (CASE E001 WHEN 3 THEN 3 ELSE null END) ELSE NULL END) NaoEmprestimo\r\n",
            "        ,COUNT(CASE WHEN B005 = 1 THEN 1 END) Total\r\n",
            "        ,(COUNT(CASE WHEN B005 = 1 THEN (CASE E001 WHEN 1 THEN 1 ELSE null END) ELSE NULL END) / COUNT(CASE WHEN B005 = 1 THEN 1 END)) *100 as PercentualEmprestimoParaSolicitantes\r\n",
            "        ,COUNT(*) QtdTotalRespondentes\r\n",
            "FROM `PNAD_COVID.PNAD_COVID_082020`\r\n",
            "UNION ALL\r\n",
            "SELECT '072020' as MesAno\r\n",
            "        ,COUNT(CASE WHEN B005 = 1 THEN (CASE E001 WHEN 1 THEN 1 ELSE null END) ELSE NULL END)  Emprestimo\r\n",
            "        ,COUNT(CASE WHEN B005 = 1 THEN (CASE E001 WHEN 2 THEN 2 ELSE null END) ELSE NULL END) Solicitou\r\n",
            "        ,COUNT(CASE WHEN B005 = 1 THEN (CASE E001 WHEN 3 THEN 3 ELSE null END) ELSE NULL END) NaoEmprestimo\r\n",
            "        ,COUNT(CASE WHEN B005 = 1 THEN 1 END) Total\r\n",
            "        ,(COUNT(CASE WHEN B005 = 1 THEN (CASE E001 WHEN 1 THEN 1 ELSE null END) ELSE NULL END) / COUNT(CASE WHEN B005 = 1 THEN 1 END)) *100 as PercentualEmprestimoParaSolicitantes\r\n",
            "        ,COUNT(*) QtdTotalRespondentes\r\n",
            "FROM `PNAD_COVID.PNAD_COVID_072020` \r\n",
            " ORDER BY 1\n"
          ]
        }
      ],
      "execution_count": 21
    },
    {
      "cell_type": "markdown",
      "metadata": {
        "id": "eY-wNOGO11ON"
      },
      "source": [
        "# Result set loaded from BigQuery job as a DataFrame\n",
        "Query results are referenced from the Job ID ran from BigQuery and the query\n",
        "does not need to be re-run to explore results. The ```to_dataframe```\n",
        "[method](https://googleapis.dev/python/bigquery/latest/generated/google.cloud.bigquery.job.QueryJob.html#google.cloud.bigquery.job.QueryJob.to_dataframe)\n",
        "downloads the results to a Pandas DataFrame by using the BigQuery Storage API. The read_gbq_table [method](https://cloud.google.com/python/docs/reference/bigframes/latest/bigframes.pandas#bigframes_pandas_read_gbq_function) turns a BigQuery table into the BigFrames DataFrame.\n",
        "\n",
        "To edit query syntax, you can do so from the BigQuery SQL editor or in the\n",
        "```Optional:``` sections below."
      ]
    },
    {
      "cell_type": "code",
      "execution_count": 28,
      "metadata": {
        "id": "bIw82qhuHWy0",
        "colab": {
          "base_uri": "https://localhost:8080/",
          "height": 326
        },
        "executionInfo": {
          "status": "ok",
          "timestamp": 1742434140655,
          "user_tz": 240,
          "elapsed": 3471,
          "user": {
            "displayName": "",
            "userId": ""
          }
        },
        "outputId": "e8a79322-de95-4e9a-ff1d-1581e83cbb6d"
      },
      "outputs": [
        {
          "output_type": "stream",
          "name": "stderr",
          "text": [
            "/usr/local/lib/python3.10/dist-packages/IPython/core/interactiveshell.py:3553: UserWarning: Reading cached table from 2025-03-20 01:22:21.179948+00:00 to avoid incompatibilies with previous reads of this table. To read the latest version, set `use_cache=False` or close the current session with Session.close() or bigframes.pandas.close_session().\n",
            "  exec(code_obj, self.user_global_ns, self.user_ns)\n"
          ]
        },
        {
          "output_type": "display_data",
          "data": {
            "text/plain": [
              "<IPython.core.display.HTML object>"
            ],
            "text/html": [
              "Query job 79dad3bf-4766-4630-9ae3-4460be05739c is DONE. 0 Bytes processed. <a target=\"_blank\" href=\"https://console.cloud.google.com/bigquery?project=postechanalyticsfase3&j=bq:southamerica-east1:79dad3bf-4766-4630-9ae3-4460be05739c&page=queryresults\">Open Job</a>"
            ]
          },
          "metadata": {}
        },
        {
          "output_type": "execute_result",
          "data": {
            "text/plain": [
              "   MesAno  Emprestimo  Solicitou  NaoEmprestimo  Total  \\\n",
              "2  072020          11          5            249    265   \n",
              "1  082020          25          5            223    253   \n",
              "0  092020          14          2            183    199   \n",
              "3  102020          20          6            156    182   \n",
              "4  112020          26          7            165    198   \n",
              "\n",
              "   PercentualEmprestimoParaSolicitantes  QtdTotalRespondentes  Concedido  \n",
              "2                              4.150943                384166         16  \n",
              "1                              9.881423                386520         30  \n",
              "0                              7.035176                387298         16  \n",
              "3                             10.989011                380461         26  \n",
              "4                             13.131313                381438         33  \n",
              "\n",
              "[5 rows x 8 columns]"
            ],
            "text/html": [
              "<div>\n",
              "<style scoped>\n",
              "    .dataframe tbody tr th:only-of-type {\n",
              "        vertical-align: middle;\n",
              "    }\n",
              "\n",
              "    .dataframe tbody tr th {\n",
              "        vertical-align: top;\n",
              "    }\n",
              "\n",
              "    .dataframe thead th {\n",
              "        text-align: right;\n",
              "    }\n",
              "</style>\n",
              "<table border=\"1\" class=\"dataframe\">\n",
              "  <thead>\n",
              "    <tr style=\"text-align: right;\">\n",
              "      <th></th>\n",
              "      <th>MesAno</th>\n",
              "      <th>Emprestimo</th>\n",
              "      <th>Solicitou</th>\n",
              "      <th>NaoEmprestimo</th>\n",
              "      <th>Total</th>\n",
              "      <th>PercentualEmprestimoParaSolicitantes</th>\n",
              "      <th>QtdTotalRespondentes</th>\n",
              "      <th>Concedido</th>\n",
              "    </tr>\n",
              "  </thead>\n",
              "  <tbody>\n",
              "    <tr>\n",
              "      <th>2</th>\n",
              "      <td>072020</td>\n",
              "      <td>11</td>\n",
              "      <td>5</td>\n",
              "      <td>249</td>\n",
              "      <td>265</td>\n",
              "      <td>4.150943</td>\n",
              "      <td>384166</td>\n",
              "      <td>16</td>\n",
              "    </tr>\n",
              "    <tr>\n",
              "      <th>1</th>\n",
              "      <td>082020</td>\n",
              "      <td>25</td>\n",
              "      <td>5</td>\n",
              "      <td>223</td>\n",
              "      <td>253</td>\n",
              "      <td>9.881423</td>\n",
              "      <td>386520</td>\n",
              "      <td>30</td>\n",
              "    </tr>\n",
              "    <tr>\n",
              "      <th>0</th>\n",
              "      <td>092020</td>\n",
              "      <td>14</td>\n",
              "      <td>2</td>\n",
              "      <td>183</td>\n",
              "      <td>199</td>\n",
              "      <td>7.035176</td>\n",
              "      <td>387298</td>\n",
              "      <td>16</td>\n",
              "    </tr>\n",
              "    <tr>\n",
              "      <th>3</th>\n",
              "      <td>102020</td>\n",
              "      <td>20</td>\n",
              "      <td>6</td>\n",
              "      <td>156</td>\n",
              "      <td>182</td>\n",
              "      <td>10.989011</td>\n",
              "      <td>380461</td>\n",
              "      <td>26</td>\n",
              "    </tr>\n",
              "    <tr>\n",
              "      <th>4</th>\n",
              "      <td>112020</td>\n",
              "      <td>26</td>\n",
              "      <td>7</td>\n",
              "      <td>165</td>\n",
              "      <td>198</td>\n",
              "      <td>13.131313</td>\n",
              "      <td>381438</td>\n",
              "      <td>33</td>\n",
              "    </tr>\n",
              "  </tbody>\n",
              "</table>\n",
              "<p>5 rows × 8 columns</p>\n",
              "</div>[5 rows x 8 columns in total]"
            ]
          },
          "metadata": {},
          "execution_count": 28
        }
      ],
      "source": [
        "# Running this code will read results from your previous job\n",
        "\n",
        "job = client.get_job('bquxjob_6b303675_195b1249573') # Job ID inserted based on the query results selected to explore\n",
        "destination = job.destination\n",
        "\n",
        "# Load data from a BigQuery table using BigFrames DataFrames:\n",
        "bq_df = bpd.read_gbq(f\"{destination.project}.{destination.dataset_id}.{destination.table_id}\")\n",
        "bq_df = bq_df.sort_values(by='MesAno')\n",
        "bq_df['Concedido'] = bq_df['Emprestimo'] + bq_df['Solicitou']\n",
        "bq_df"
      ]
    },
    {
      "cell_type": "markdown",
      "metadata": {
        "id": "84Ub57pbB6EN"
      },
      "source": [
        "## Show descriptive statistics using describe()\n",
        "Use the ```DataFrame.describe()```\n",
        "[method](https://cloud.google.com/python/docs/reference/bigframes/latest/bigframes.dataframe.DataFrame#bigframes_dataframe_DataFrame_describe)\n",
        "to generate descriptive statistics. Descriptive statistics include those that\n",
        "summarize the central tendency, dispersion and shape of a dataset’s\n",
        "distribution, excluding ```NaN``` values. You may also use other Python methods\n",
        "to interact with your data."
      ]
    },
    {
      "cell_type": "code",
      "source": [
        "# Generate descriptive statistics.\n",
        "bq_df.describe()"
      ],
      "metadata": {
        "id": "fsAsHoWDZMpv",
        "executionInfo": {
          "status": "ok",
          "timestamp": 1742433116589,
          "user_tz": 240,
          "elapsed": 2393,
          "user": {
            "displayName": "",
            "userId": ""
          }
        },
        "outputId": "49ada77f-f4d0-46f8-fe9b-0661eede8d09",
        "colab": {
          "base_uri": "https://localhost:8080/",
          "height": 364
        }
      },
      "execution_count": null,
      "outputs": [
        {
          "output_type": "display_data",
          "data": {
            "text/plain": [
              "<IPython.core.display.HTML object>"
            ],
            "text/html": [
              "Query job d71edb89-35f3-4c11-a51e-523e3ad9c46a is DONE. 0 Bytes processed. <a target=\"_blank\" href=\"https://console.cloud.google.com/bigquery?project=postechanalyticsfase3&j=bq:southamerica-east1:d71edb89-35f3-4c11-a51e-523e3ad9c46a&page=queryresults\">Open Job</a>"
            ]
          },
          "metadata": {}
        },
        {
          "output_type": "execute_result",
          "data": {
            "text/plain": [
              "       Emprestimo  Solicitou  NaoEmprestimo      Total  PercentualEmprestimo\n",
              "count         5.0        5.0            5.0        5.0                   5.0\n",
              "mean         19.2        5.0          195.2      219.4              9.037573\n",
              "std      6.610598   1.870829      39.575245  37.017563              3.505982\n",
              "min          11.0        2.0          156.0      182.0              4.150943\n",
              "25%          14.0        5.0          165.0      198.0              7.035176\n",
              "50%          20.0        5.0          183.0      199.0              9.881423\n",
              "75%          25.0        6.0          223.0      253.0             10.989011\n",
              "max          26.0        7.0          249.0      265.0             13.131313\n",
              "\n",
              "[8 rows x 5 columns]"
            ],
            "text/html": [
              "<div>\n",
              "<style scoped>\n",
              "    .dataframe tbody tr th:only-of-type {\n",
              "        vertical-align: middle;\n",
              "    }\n",
              "\n",
              "    .dataframe tbody tr th {\n",
              "        vertical-align: top;\n",
              "    }\n",
              "\n",
              "    .dataframe thead th {\n",
              "        text-align: right;\n",
              "    }\n",
              "</style>\n",
              "<table border=\"1\" class=\"dataframe\">\n",
              "  <thead>\n",
              "    <tr style=\"text-align: right;\">\n",
              "      <th></th>\n",
              "      <th>Emprestimo</th>\n",
              "      <th>Solicitou</th>\n",
              "      <th>NaoEmprestimo</th>\n",
              "      <th>Total</th>\n",
              "      <th>PercentualEmprestimo</th>\n",
              "    </tr>\n",
              "  </thead>\n",
              "  <tbody>\n",
              "    <tr>\n",
              "      <th>count</th>\n",
              "      <td>5.0</td>\n",
              "      <td>5.0</td>\n",
              "      <td>5.0</td>\n",
              "      <td>5.0</td>\n",
              "      <td>5.0</td>\n",
              "    </tr>\n",
              "    <tr>\n",
              "      <th>mean</th>\n",
              "      <td>19.2</td>\n",
              "      <td>5.0</td>\n",
              "      <td>195.2</td>\n",
              "      <td>219.4</td>\n",
              "      <td>9.037573</td>\n",
              "    </tr>\n",
              "    <tr>\n",
              "      <th>std</th>\n",
              "      <td>6.610598</td>\n",
              "      <td>1.870829</td>\n",
              "      <td>39.575245</td>\n",
              "      <td>37.017563</td>\n",
              "      <td>3.505982</td>\n",
              "    </tr>\n",
              "    <tr>\n",
              "      <th>min</th>\n",
              "      <td>11.0</td>\n",
              "      <td>2.0</td>\n",
              "      <td>156.0</td>\n",
              "      <td>182.0</td>\n",
              "      <td>4.150943</td>\n",
              "    </tr>\n",
              "    <tr>\n",
              "      <th>25%</th>\n",
              "      <td>14.0</td>\n",
              "      <td>5.0</td>\n",
              "      <td>165.0</td>\n",
              "      <td>198.0</td>\n",
              "      <td>7.035176</td>\n",
              "    </tr>\n",
              "    <tr>\n",
              "      <th>50%</th>\n",
              "      <td>20.0</td>\n",
              "      <td>5.0</td>\n",
              "      <td>183.0</td>\n",
              "      <td>199.0</td>\n",
              "      <td>9.881423</td>\n",
              "    </tr>\n",
              "    <tr>\n",
              "      <th>75%</th>\n",
              "      <td>25.0</td>\n",
              "      <td>6.0</td>\n",
              "      <td>223.0</td>\n",
              "      <td>253.0</td>\n",
              "      <td>10.989011</td>\n",
              "    </tr>\n",
              "    <tr>\n",
              "      <th>max</th>\n",
              "      <td>26.0</td>\n",
              "      <td>7.0</td>\n",
              "      <td>249.0</td>\n",
              "      <td>265.0</td>\n",
              "      <td>13.131313</td>\n",
              "    </tr>\n",
              "  </tbody>\n",
              "</table>\n",
              "<p>8 rows × 5 columns</p>\n",
              "</div>[8 rows x 5 columns in total]"
            ]
          },
          "metadata": {},
          "execution_count": 10
        }
      ]
    },
    {
      "cell_type": "code",
      "source": [
        "# Convert BigQuery DataFrame to pandas DataFrame.\n",
        "pandas_df = bq_df.to_pandas()"
      ],
      "metadata": {
        "id": "fsAsHoWDZMpvh",
        "executionInfo": {
          "status": "ok",
          "timestamp": 1742433118901,
          "user_tz": 240,
          "elapsed": 2320,
          "user": {
            "displayName": "",
            "userId": ""
          }
        },
        "outputId": "dc7e7869-4a34-4b0d-c5ce-86583fb53f44",
        "colab": {
          "base_uri": "https://localhost:8080/",
          "height": 34
        }
      },
      "execution_count": null,
      "outputs": [
        {
          "output_type": "display_data",
          "data": {
            "text/plain": [
              "<IPython.core.display.HTML object>"
            ],
            "text/html": [
              "Query job 86c049d6-ab4a-44dd-b9c5-1ffec3d6c96e is DONE. 0 Bytes processed. <a target=\"_blank\" href=\"https://console.cloud.google.com/bigquery?project=postechanalyticsfase3&j=bq:southamerica-east1:86c049d6-ab4a-44dd-b9c5-1ffec3d6c96e&page=queryresults\">Open Job</a>"
            ]
          },
          "metadata": {}
        }
      ]
    },
    {
      "cell_type": "code",
      "source": [
        "import matplotlib.pyplot as plt\n",
        "\n",
        "# Configurar o tamanho do gráfico\n",
        "plt.figure(figsize=(12, 6))\n",
        "\n",
        "# Criar o gráfico de barras para a coluna \"total\" no eixo principal\n",
        "fig, ax1 = plt.subplots(figsize=(12, 6))  # Define o eixo principal\n",
        "ax1.bar(bq_df['MesAno'], bq_df['QtdTotalRespondentes'], color='skyblue', label='Entrevistados')\n",
        "ax1.set_xlabel('Periodo', fontsize=12)\n",
        "ax1.set_ylim(0,500000)\n",
        "ax1.set_ylabel('Entrevistados (Qtd)', fontsize=12)\n",
        "ax1.tick_params(axis='x', rotation=45)\n",
        "ax1.grid(axis='y', linestyle='--', alpha=0.7)\n",
        "\n",
        "# Criar o eixo secundário para as linhas\n",
        "ax2 = ax1.twinx()  # Define o eixo secundário\n",
        "linha1, = ax2.plot(bq_df['MesAno'], bq_df['Total'], color='green', marker='o', label='Respostas Preenchidas')\n",
        "for x, y in zip(bq_df['MesAno'], bq_df['Total']):\n",
        "    ax2.text(x, y, f'{y:.1f}', ha='left', va='bottom', fontsize=10, color='green')\n",
        "linha2, = ax2.plot(bq_df['MesAno'], bq_df['Concedido'], color='red', marker='o', label='Empréstimos Concedidos')\n",
        "for x, y in zip(bq_df['MesAno'], bq_df['Concedido']):\n",
        "    ax2.text(x, y, f'{y:.1f}', ha='left', va='bottom', fontsize=10, color='red')\n",
        "ax2.set_ylabel('Respostas (Qtd)', fontsize=12)\n",
        "ax2.set_ylim(0,320)\n",
        "#ax2.legend()\n",
        "\n",
        "# Adicionar título e legenda\n",
        "plt.title('Quantidade de entrevistados pela quantidade de respostas (Para emprestimos) e de concessões de crédito', fontsize=14)\n",
        "fig.legend(loc='upper right', bbox_to_anchor=(0.94, 0.94), fontsize=12)\n",
        "\n",
        "# Mostrar o gráfico\n",
        "plt.tight_layout()\n",
        "plt.show()"
      ],
      "metadata": {
        "colab": {
          "base_uri": "https://localhost:8080/",
          "height": 788
        },
        "id": "72RrfY0YF1Bf",
        "executionInfo": {
          "status": "ok",
          "timestamp": 1742434829056,
          "user_tz": 240,
          "elapsed": 43838,
          "user": {
            "displayName": "",
            "userId": ""
          }
        },
        "outputId": "ae6480dd-891a-4143-9bb0-53e88e942dc2"
      },
      "execution_count": 36,
      "outputs": [
        {
          "output_type": "display_data",
          "data": {
            "text/plain": [
              "<IPython.core.display.HTML object>"
            ],
            "text/html": [
              "Query job 402b062d-47db-4c4c-b781-427076ee6b4e is DONE. 0 Bytes processed. <a target=\"_blank\" href=\"https://console.cloud.google.com/bigquery?project=postechanalyticsfase3&j=bq:southamerica-east1:402b062d-47db-4c4c-b781-427076ee6b4e&page=queryresults\">Open Job</a>"
            ]
          },
          "metadata": {}
        },
        {
          "output_type": "display_data",
          "data": {
            "text/plain": [
              "<IPython.core.display.HTML object>"
            ],
            "text/html": [
              "Query job a711a823-6d1c-44f2-be9a-bee5e26588af is DONE. 0 Bytes processed. <a target=\"_blank\" href=\"https://console.cloud.google.com/bigquery?project=postechanalyticsfase3&j=bq:southamerica-east1:a711a823-6d1c-44f2-be9a-bee5e26588af&page=queryresults\">Open Job</a>"
            ]
          },
          "metadata": {}
        },
        {
          "output_type": "display_data",
          "data": {
            "text/plain": [
              "<IPython.core.display.HTML object>"
            ],
            "text/html": [
              "Query job f83b07c3-f7b1-4386-a9ec-5f7e9c4fda72 is DONE. 0 Bytes processed. <a target=\"_blank\" href=\"https://console.cloud.google.com/bigquery?project=postechanalyticsfase3&j=bq:southamerica-east1:f83b07c3-f7b1-4386-a9ec-5f7e9c4fda72&page=queryresults\">Open Job</a>"
            ]
          },
          "metadata": {}
        },
        {
          "output_type": "display_data",
          "data": {
            "text/plain": [
              "<IPython.core.display.HTML object>"
            ],
            "text/html": [
              "Query job 8af00416-63f5-4613-b582-467fd71d809a is DONE. 0 Bytes processed. <a target=\"_blank\" href=\"https://console.cloud.google.com/bigquery?project=postechanalyticsfase3&j=bq:southamerica-east1:8af00416-63f5-4613-b582-467fd71d809a&page=queryresults\">Open Job</a>"
            ]
          },
          "metadata": {}
        },
        {
          "output_type": "display_data",
          "data": {
            "text/plain": [
              "<IPython.core.display.HTML object>"
            ],
            "text/html": [
              "Query job fbb82765-de9b-4295-aa68-bd462e6604e9 is DONE. 0 Bytes processed. <a target=\"_blank\" href=\"https://console.cloud.google.com/bigquery?project=postechanalyticsfase3&j=bq:southamerica-east1:fbb82765-de9b-4295-aa68-bd462e6604e9&page=queryresults\">Open Job</a>"
            ]
          },
          "metadata": {}
        },
        {
          "output_type": "display_data",
          "data": {
            "text/plain": [
              "<IPython.core.display.HTML object>"
            ],
            "text/html": [
              "Query job 10a63ba2-d312-4968-9bc1-08baa6c3a5f0 is DONE. 0 Bytes processed. <a target=\"_blank\" href=\"https://console.cloud.google.com/bigquery?project=postechanalyticsfase3&j=bq:southamerica-east1:10a63ba2-d312-4968-9bc1-08baa6c3a5f0&page=queryresults\">Open Job</a>"
            ]
          },
          "metadata": {}
        },
        {
          "output_type": "display_data",
          "data": {
            "text/plain": [
              "<IPython.core.display.HTML object>"
            ],
            "text/html": [
              "Query job bf97008c-4bba-48e3-beeb-0b7ae256997b is DONE. 0 Bytes processed. <a target=\"_blank\" href=\"https://console.cloud.google.com/bigquery?project=postechanalyticsfase3&j=bq:southamerica-east1:bf97008c-4bba-48e3-beeb-0b7ae256997b&page=queryresults\">Open Job</a>"
            ]
          },
          "metadata": {}
        },
        {
          "output_type": "display_data",
          "data": {
            "text/plain": [
              "<IPython.core.display.HTML object>"
            ],
            "text/html": [
              "Query job a05cabfd-ec20-4bb5-b912-7bf26738599b is DONE. 0 Bytes processed. <a target=\"_blank\" href=\"https://console.cloud.google.com/bigquery?project=postechanalyticsfase3&j=bq:southamerica-east1:a05cabfd-ec20-4bb5-b912-7bf26738599b&page=queryresults\">Open Job</a>"
            ]
          },
          "metadata": {}
        },
        {
          "output_type": "display_data",
          "data": {
            "text/plain": [
              "<IPython.core.display.HTML object>"
            ],
            "text/html": [
              "Query job 17a5e13b-e07c-4279-ae57-46db89a1ab30 is DONE. 0 Bytes processed. <a target=\"_blank\" href=\"https://console.cloud.google.com/bigquery?project=postechanalyticsfase3&j=bq:southamerica-east1:17a5e13b-e07c-4279-ae57-46db89a1ab30&page=queryresults\">Open Job</a>"
            ]
          },
          "metadata": {}
        },
        {
          "output_type": "display_data",
          "data": {
            "text/plain": [
              "<IPython.core.display.HTML object>"
            ],
            "text/html": [
              "Query job f738dda5-2e90-4968-9798-6b78b7aab20e is DONE. 0 Bytes processed. <a target=\"_blank\" href=\"https://console.cloud.google.com/bigquery?project=postechanalyticsfase3&j=bq:southamerica-east1:f738dda5-2e90-4968-9798-6b78b7aab20e&page=queryresults\">Open Job</a>"
            ]
          },
          "metadata": {}
        },
        {
          "output_type": "display_data",
          "data": {
            "text/plain": [
              "<IPython.core.display.HTML object>"
            ],
            "text/html": [
              "Query job bfa787c3-f2c1-4a79-ae2b-1fde76d23cad is DONE. 0 Bytes processed. <a target=\"_blank\" href=\"https://console.cloud.google.com/bigquery?project=postechanalyticsfase3&j=bq:southamerica-east1:bfa787c3-f2c1-4a79-ae2b-1fde76d23cad&page=queryresults\">Open Job</a>"
            ]
          },
          "metadata": {}
        },
        {
          "output_type": "display_data",
          "data": {
            "text/plain": [
              "<IPython.core.display.HTML object>"
            ],
            "text/html": [
              "Query job 56f3e758-5ca2-406e-9852-7a2902f7c569 is DONE. 0 Bytes processed. <a target=\"_blank\" href=\"https://console.cloud.google.com/bigquery?project=postechanalyticsfase3&j=bq:southamerica-east1:56f3e758-5ca2-406e-9852-7a2902f7c569&page=queryresults\">Open Job</a>"
            ]
          },
          "metadata": {}
        },
        {
          "output_type": "display_data",
          "data": {
            "text/plain": [
              "<IPython.core.display.HTML object>"
            ],
            "text/html": [
              "Query job 8d40ee39-b0a9-43b2-b41d-0090a893344f is DONE. 0 Bytes processed. <a target=\"_blank\" href=\"https://console.cloud.google.com/bigquery?project=postechanalyticsfase3&j=bq:southamerica-east1:8d40ee39-b0a9-43b2-b41d-0090a893344f&page=queryresults\">Open Job</a>"
            ]
          },
          "metadata": {}
        },
        {
          "output_type": "display_data",
          "data": {
            "text/plain": [
              "<IPython.core.display.HTML object>"
            ],
            "text/html": [
              "Query job 0db0a384-44d2-4960-a70b-67c958538f77 is DONE. 0 Bytes processed. <a target=\"_blank\" href=\"https://console.cloud.google.com/bigquery?project=postechanalyticsfase3&j=bq:southamerica-east1:0db0a384-44d2-4960-a70b-67c958538f77&page=queryresults\">Open Job</a>"
            ]
          },
          "metadata": {}
        },
        {
          "output_type": "display_data",
          "data": {
            "text/plain": [
              "<IPython.core.display.HTML object>"
            ],
            "text/html": [
              "Query job 00357d1c-6245-4749-8403-1009ca506edf is DONE. 0 Bytes processed. <a target=\"_blank\" href=\"https://console.cloud.google.com/bigquery?project=postechanalyticsfase3&j=bq:southamerica-east1:00357d1c-6245-4749-8403-1009ca506edf&page=queryresults\">Open Job</a>"
            ]
          },
          "metadata": {}
        },
        {
          "output_type": "display_data",
          "data": {
            "text/plain": [
              "<Figure size 1200x600 with 0 Axes>"
            ]
          },
          "metadata": {}
        },
        {
          "output_type": "display_data",
          "data": {
            "text/plain": [
              "<Figure size 1200x600 with 2 Axes>"
            ],
            "image/png": "[encoded data removed]"
          },
          "metadata": {}
        }
      ]
    }
  ]
}